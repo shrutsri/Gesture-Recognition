{
 "cells": [
  {
   "cell_type": "markdown",
   "metadata": {
    "id": "U1B_PcdYJPCr"
   },
   "source": [
    "# Gesture Recognition\n",
    "In this group project, you are going to build a 3D Conv model that will be able to predict the 5 gestures correctly. Please import the following libraries to get started."
   ]
  },
  {
   "cell_type": "code",
   "execution_count": 6,
   "metadata": {
    "colab": {
     "base_uri": "https://localhost:8080/"
    },
    "id": "F3F_DvNDszAL",
    "outputId": "f2f96995-af90-4bd6-9a09-00fb2dceda56"
   },
   "outputs": [
    {
     "name": "stdout",
     "output_type": "stream",
     "text": [
      "Sun Jul 11 09:03:59 2021       \n",
      "+-----------------------------------------------------------------------------+\n",
      "| NVIDIA-SMI 470.42.01    Driver Version: 460.32.03    CUDA Version: 11.2     |\n",
      "|-------------------------------+----------------------+----------------------+\n",
      "| GPU  Name        Persistence-M| Bus-Id        Disp.A | Volatile Uncorr. ECC |\n",
      "| Fan  Temp  Perf  Pwr:Usage/Cap|         Memory-Usage | GPU-Util  Compute M. |\n",
      "|                               |                      |               MIG M. |\n",
      "|===============================+======================+======================|\n",
      "|   0  Tesla T4            Off  | 00000000:00:04.0 Off |                    0 |\n",
      "| N/A   36C    P8     9W /  70W |      0MiB / 15109MiB |      0%      Default |\n",
      "|                               |                      |                  N/A |\n",
      "+-------------------------------+----------------------+----------------------+\n",
      "                                                                               \n",
      "+-----------------------------------------------------------------------------+\n",
      "| Processes:                                                                  |\n",
      "|  GPU   GI   CI        PID   Type   Process name                  GPU Memory |\n",
      "|        ID   ID                                                   Usage      |\n",
      "|=============================================================================|\n",
      "|  No running processes found                                                 |\n",
      "+-----------------------------------------------------------------------------+\n"
     ]
    }
   ],
   "source": [
    "## Checking the GPU configuration\n",
    "\n",
    "!nvidia-smi"
   ]
  },
  {
   "cell_type": "code",
   "execution_count": 62,
   "metadata": {
    "id": "wxIHKPb_JPCu"
   },
   "outputs": [],
   "source": [
    "import numpy as np\n",
    "import os\n",
    "import imageio\n",
    "import datetime\n",
    "import os\n",
    "import cv2\n",
    "import warnings\n",
    "warnings.filterwarnings(\"ignore\")"
   ]
  },
  {
   "cell_type": "markdown",
   "metadata": {
    "id": "4REOIECIJPCv"
   },
   "source": [
    "We set the random seed so that the results don't vary drastically."
   ]
  },
  {
   "cell_type": "code",
   "execution_count": 63,
   "metadata": {
    "id": "opTCBCNgJPCv"
   },
   "outputs": [],
   "source": [
    "np.random.seed(30)\n",
    "import random as rn\n",
    "rn.seed(30)\n",
    "from keras import backend as K\n",
    "import tensorflow as tf\n",
    "tf.random.set_seed(30)"
   ]
  },
  {
   "cell_type": "markdown",
   "metadata": {
    "id": "IM7eLi2WJPCv"
   },
   "source": [
    "In this block, you read the folder names for training and validation. You also set the `batch_size` here. Note that you set the batch size in such a way that you are able to use the GPU in full capacity. You keep increasing the batch size until the machine throws an error."
   ]
  },
  {
   "cell_type": "code",
   "execution_count": 71,
   "metadata": {
    "id": "aO05xYOmJPCw"
   },
   "outputs": [],
   "source": [
    "train_doc = np.random.permutation(open('Project_data/train.csv').readlines())\n",
    "val_doc = np.random.permutation(open('Project_data/val.csv').readlines())\n",
    "batch_size = 13 #experiment with the batch size"
   ]
  },
  {
   "cell_type": "code",
   "execution_count": 72,
   "metadata": {
    "id": "yfB2gx1YJPCw"
   },
   "outputs": [],
   "source": [
    "# function to plot the training/validation accuracies/losses.\n",
    "from matplotlib import pyplot as plt\n",
    "def plot(history):\n",
    "    fig, axes = plt.subplots(nrows=1, ncols=2, figsize=(15,4))\n",
    "    axes[0].plot(history.history['loss'])   \n",
    "    axes[0].plot(history.history['val_loss'])\n",
    "    axes[0].grid()\n",
    "    axes[0].legend(['loss','val_loss'])\n",
    "    axes[1].plot(history.history['categorical_accuracy'])   \n",
    "    axes[1].plot(history.history['val_categorical_accuracy'])\n",
    "    axes[1].grid()\n",
    "    axes[1].legend(['categorical_accuracy','val_categorical_accuracy'])"
   ]
  },
  {
   "cell_type": "markdown",
   "metadata": {
    "id": "pyVdhsO3JPCx"
   },
   "source": [
    "## Generator\n",
    "This is one of the most important part of the code. The overall structure of the generator has been given. In the generator, you are going to preprocess the images as you have images of 2 different dimensions as well as create a batch of video frames. You have to experiment with `img_idx`, `y`,`z` and normalization such that you get high accuracy."
   ]
  },
  {
   "cell_type": "code",
   "execution_count": 73,
   "metadata": {
    "id": "yfMU65lkJPCx"
   },
   "outputs": [],
   "source": [
    "y = 120 # width of the image\n",
    "z = 120 # height of the image"
   ]
  },
  {
   "cell_type": "code",
   "execution_count": 105,
   "metadata": {
    "id": "8LeasrjeJPCy"
   },
   "outputs": [],
   "source": [
    "def generator(source_path, folder_list, batch_size):\n",
    "    print( 'Source path = ', source_path, '; batch size =', batch_size)\n",
    "    img_idx = [x for x in range(0, 30)] #create a list of image numbers you want to use for a particular video\n",
    "    while True:\n",
    "        t = np.random.permutation(folder_list)\n",
    "        num_batches = len(folder_list)//batch_size # calculate the number of batches\n",
    "        for batch in range(num_batches): # we iterate over the number of batches\n",
    "            batch_data = np.zeros((batch_size,len(img_idx),y,z,3)) # x is the number of images you use for each video, (y,z) is the final size of the input images and 3 is the number of channels RGB\n",
    "            batch_labels = np.zeros((batch_size,5)) # batch_labels is the one hot representation of the output\n",
    "            for folder in range(batch_size): # iterate over the batch_size\n",
    "                imgs = os.listdir(source_path+'/'+ t[folder + (batch*batch_size)].split(';')[0]) # read all the images in the folder\n",
    "                for idx,item in enumerate(img_idx): #  Iterate iver the frames/images of a folder to read them in\n",
    "                    image = imageio.imread(source_path+'/'+ t[folder + (batch*batch_size)].strip().split(';')[0]+'/'+imgs[item]).astype(np.float32)\n",
    "                    \n",
    "                    #crop the images and resize them. Note that the images are of 2 different shape\n",
    "                    if image.shape[0] != image.shape[1]:\n",
    "                      image=image[0:120,20:140]                                 \n",
    "                         \n",
    "                    #and the conv3D will throw error if the inputs in a batch have different shapes                    \n",
    "                    image_resized= resized = cv2.resize(image, (120,120), interpolation = cv2.INTER_AREA)\n",
    "                    \n",
    "                    batch_data[folder,idx,:,:,0] = (image_resized[:,:,0])/255\n",
    "                    batch_data[folder,idx,:,:,1] = (image_resized[:,:,1])/255\n",
    "                    batch_data[folder,idx,:,:,2] = (image_resized[:,:,2])/255\n",
    "            \n",
    "                    \n",
    "                batch_labels[folder, int(t[folder + (batch*batch_size)].strip().split(';')[2])] = 1\n",
    "            yield batch_data, batch_labels #you yield the batch_data and the batch_labels, remember what does yield do\n",
    "            \n",
    "        # write the code for the remaining data points which are left after full batches\n",
    "        if (len(t)%batch_size != 0):           \n",
    "            batch_size = len(t)%batch_size\n",
    "            print(batch_size)\n",
    "            batch_data = np.zeros((batch_size,len(img_idx),y,z,3)) # x is the number of images you use for each video, (y,z) is the final size of the input images and 3 is the number of channels RGB\n",
    "            batch_labels = np.zeros((batch_size,5)) # batch_labels is the one hot representation of the output\n",
    "            for folder in range(batch_size): # iterate over the batch_size\n",
    "                imgs = os.listdir(source_path+'/'+ t[folder + (batch*batch_size)].split(';')[0]) # read all the images in the folder\n",
    "                for idx,item in enumerate(img_idx): #  Iterate iver the frames/images of a folder to read them in\n",
    "                    image = imageio.imread(source_path+'/'+ t[folder + (batch*batch_size)].strip().split(';')[0]+'/'+imgs[item]).astype(np.float32)\n",
    "                    \n",
    "                   #crop the images and resize them. Note that the images are of 2 different shape\n",
    "                    if image.shape[0] != image.shape[1]:\n",
    "                      image=image[0:120,20:140]                                 \n",
    "                         \n",
    "                    #and the conv3D will throw error if the inputs in a batch have different shapes                    \n",
    "                    image_resized= resized = cv2.resize(image, (120,120), interpolation = cv2.INTER_AREA)\n",
    "                    \n",
    "                    batch_data[folder,idx,:,:,0] = (image_resized[:,:,0])/255\n",
    "                    batch_data[folder,idx,:,:,1] = (image_resized[:,:,1])/255\n",
    "                    batch_data[folder,idx,:,:,2] = (image_resized[:,:,2])/255\n",
    "                   \n",
    "                batch_labels[folder, int(t[folder + (batch*batch_size)].strip().split(';')[2])] = 1\n",
    "            yield batch_data, batch_labels"
   ]
  },
  {
   "cell_type": "markdown",
   "metadata": {
    "id": "0TGYlhRBJPCz"
   },
   "source": [
    "Note here that a video is represented above in the generator as (number of images, height, width, number of channels). Take this into consideration while creating the model architecture."
   ]
  },
  {
   "cell_type": "code",
   "execution_count": 106,
   "metadata": {
    "colab": {
     "base_uri": "https://localhost:8080/"
    },
    "id": "rw8zFSQBJPC1",
    "outputId": "fd201506-6d62-4874-cb68-e1501fe5761f"
   },
   "outputs": [
    {
     "name": "stdout",
     "output_type": "stream",
     "text": [
      "# training sequences = 663\n",
      "# validation sequences = 100\n",
      "# epochs = 10\n"
     ]
    }
   ],
   "source": [
    "curr_dt_time = datetime.datetime.now()\n",
    "train_path = 'Project_data/train'\n",
    "val_path = 'Project_data/val'\n",
    "num_train_sequences = len(train_doc)\n",
    "print('# training sequences =', num_train_sequences)\n",
    "num_val_sequences = len(val_doc)\n",
    "print('# validation sequences =', num_val_sequences)\n",
    "num_epochs = 10 # choose the number of epochs\n",
    "print ('# epochs =', num_epochs)"
   ]
  },
  {
   "cell_type": "markdown",
   "metadata": {
    "id": "fSDjFJo1JPC2"
   },
   "source": [
    "## Model\n",
    "Here you make the model using different functionalities that Keras provides. Remember to use `Conv3D` and `MaxPooling3D` and not `Conv2D` and `Maxpooling2D` for a 3D convolution model. You would want to use `TimeDistributed` while building a Conv2D + RNN model. Also remember that the last layer is the softmax. Design the network in such a way that the model is able to give good accuracy on the least number of parameters so that it can fit in the memory of the webcam."
   ]
  },
  {
   "cell_type": "code",
   "execution_count": 107,
   "metadata": {
    "id": "fz0x2c6EJPC3"
   },
   "outputs": [],
   "source": [
    "nb_rows = 120   # X dimension of the image\n",
    "nb_cols = 120   # Y dimesnion of the image\n",
    "nb_frames = 30  # length of the video frames\n",
    "nb_channel = 3"
   ]
  },
  {
   "cell_type": "code",
   "execution_count": 108,
   "metadata": {
    "id": "VYsr5cWY8aNd"
   },
   "outputs": [],
   "source": [
    "from tensorflow.keras.models import Sequential, Model\n",
    "from tensorflow.keras.layers import Dense, GRU, Flatten, TimeDistributed, Flatten, BatchNormalization, Activation, Dropout\n",
    "from tensorflow.keras.layers import Conv3D, MaxPooling3D, Conv2D, MaxPooling2D\n",
    "from tensorflow.keras.callbacks import ModelCheckpoint, ReduceLROnPlateau\n",
    "from keras.layers.recurrent import LSTM\n",
    "from tensorflow.keras import optimizers\n",
    "from keras.optimizers import Adam\n",
    "\n",
    "from tensorflow.keras.applications import mobilenet"
   ]
  },
  {
   "cell_type": "markdown",
   "metadata": {
    "id": "C4FlJ11Qcifd"
   },
   "source": [
    "**Base Model**"
   ]
  },
  {
   "cell_type": "code",
   "execution_count": 80,
   "metadata": {
    "colab": {
     "base_uri": "https://localhost:8080/"
    },
    "id": "JGwuYV0vZnQ9",
    "outputId": "e6d3cb9d-49bc-4433-a00f-1d486784fbc1"
   },
   "outputs": [
    {
     "name": "stdout",
     "output_type": "stream",
     "text": [
      "Model: \"sequential_6\"\n",
      "_________________________________________________________________\n",
      "Layer (type)                 Output Shape              Param #   \n",
      "=================================================================\n",
      "conv3d_16 (Conv3D)           (None, 30, 120, 120, 16)  1312      \n",
      "_________________________________________________________________\n",
      "activation_16 (Activation)   (None, 30, 120, 120, 16)  0         \n",
      "_________________________________________________________________\n",
      "batch_normalization_30 (Batc (None, 30, 120, 120, 16)  64        \n",
      "_________________________________________________________________\n",
      "max_pooling3d_16 (MaxPooling (None, 15, 60, 60, 16)    0         \n",
      "_________________________________________________________________\n",
      "conv3d_17 (Conv3D)           (None, 15, 60, 60, 32)    4128      \n",
      "_________________________________________________________________\n",
      "activation_17 (Activation)   (None, 15, 60, 60, 32)    0         \n",
      "_________________________________________________________________\n",
      "batch_normalization_31 (Batc (None, 15, 60, 60, 32)    128       \n",
      "_________________________________________________________________\n",
      "max_pooling3d_17 (MaxPooling (None, 7, 30, 30, 32)     0         \n",
      "_________________________________________________________________\n",
      "conv3d_18 (Conv3D)           (None, 7, 30, 30, 64)     16448     \n",
      "_________________________________________________________________\n",
      "activation_18 (Activation)   (None, 7, 30, 30, 64)     0         \n",
      "_________________________________________________________________\n",
      "batch_normalization_32 (Batc (None, 7, 30, 30, 64)     256       \n",
      "_________________________________________________________________\n",
      "max_pooling3d_18 (MaxPooling (None, 3, 15, 15, 64)     0         \n",
      "_________________________________________________________________\n",
      "conv3d_19 (Conv3D)           (None, 3, 15, 15, 128)    65664     \n",
      "_________________________________________________________________\n",
      "activation_19 (Activation)   (None, 3, 15, 15, 128)    0         \n",
      "_________________________________________________________________\n",
      "batch_normalization_33 (Batc (None, 3, 15, 15, 128)    512       \n",
      "_________________________________________________________________\n",
      "max_pooling3d_19 (MaxPooling (None, 1, 7, 7, 128)      0         \n",
      "_________________________________________________________________\n",
      "flatten_6 (Flatten)          (None, 6272)              0         \n",
      "_________________________________________________________________\n",
      "dense_16 (Dense)             (None, 128)               802944    \n",
      "_________________________________________________________________\n",
      "batch_normalization_34 (Batc (None, 128)               512       \n",
      "_________________________________________________________________\n",
      "dropout_12 (Dropout)         (None, 128)               0         \n",
      "_________________________________________________________________\n",
      "dense_17 (Dense)             (None, 64)                8256      \n",
      "_________________________________________________________________\n",
      "batch_normalization_35 (Batc (None, 64)                256       \n",
      "_________________________________________________________________\n",
      "dropout_13 (Dropout)         (None, 64)                0         \n",
      "_________________________________________________________________\n",
      "dense_18 (Dense)             (None, 5)                 325       \n",
      "=================================================================\n",
      "Total params: 900,805\n",
      "Trainable params: 899,941\n",
      "Non-trainable params: 864\n",
      "_________________________________________________________________\n",
      "None\n"
     ]
    }
   ],
   "source": [
    "model = Sequential()\n",
    "model.add(Conv3D(16, (3, 3, 3), padding='same',input_shape=(30,120,120,3)))\n",
    "model.add(Activation('relu'))\n",
    "model.add(BatchNormalization())\n",
    "model.add(MaxPooling3D(pool_size=(2, 2, 2)))\n",
    "\n",
    "model.add(Conv3D(32, (2, 2, 2), padding='same'))\n",
    "model.add(Activation('relu'))\n",
    "model.add(BatchNormalization())\n",
    "model.add(MaxPooling3D(pool_size=(2, 2, 2)))\n",
    "\n",
    "model.add(Conv3D(64, (2, 2, 2), padding='same'))\n",
    "model.add(Activation('relu'))\n",
    "model.add(BatchNormalization())\n",
    "model.add(MaxPooling3D(pool_size=(2, 2, 2)))\n",
    "model.add(Conv3D(128, (2, 2, 2), padding='same'))\n",
    "model.add(Activation('relu'))\n",
    "model.add(BatchNormalization())\n",
    "model.add(MaxPooling3D(pool_size=(2, 2, 2)))\n",
    "model.add(Flatten())\n",
    "model.add(Dense(128,activation='relu'))\n",
    "model.add(BatchNormalization())\n",
    "model.add(Dropout(0.5))\n",
    "\n",
    "model.add(Dense(64,activation='relu'))\n",
    "model.add(BatchNormalization())\n",
    "model.add(Dropout(0.25))\n",
    "\n",
    "\n",
    "model.add(Dense(5,activation='softmax'))\n",
    "\n",
    "optimiser = optimizers.Adam()\n",
    "model.compile(optimizer=optimiser, loss='categorical_crossentropy', metrics=['categorical_accuracy'])\n",
    "print (model.summary())\n"
   ]
  },
  {
   "cell_type": "markdown",
   "metadata": {
    "id": "nTRogvELccVy"
   },
   "source": [
    "Let us create the train_generator and the val_generator which will be used in .fit_generator."
   ]
  },
  {
   "cell_type": "code",
   "execution_count": 96,
   "metadata": {
    "id": "idEC-1AZare9"
   },
   "outputs": [],
   "source": [
    "train_generator = generator(train_path, train_doc, batch_size)\n",
    "val_generator = generator(val_path, val_doc, batch_size)"
   ]
  },
  {
   "cell_type": "code",
   "execution_count": 97,
   "metadata": {
    "colab": {
     "base_uri": "https://localhost:8080/"
    },
    "id": "FVrwo75ebS2G",
    "outputId": "244749f6-3127-4d10-a59c-657c585101ee"
   },
   "outputs": [
    {
     "name": "stdout",
     "output_type": "stream",
     "text": [
      "WARNING:tensorflow:`period` argument is deprecated. Please use `save_freq` to specify the frequency in number of batches seen.\n"
     ]
    }
   ],
   "source": [
    "model_name = 'model_init' + '_' + str(curr_dt_time).replace(' ','').replace(':','_') + '/'\n",
    "    \n",
    "if not os.path.exists(model_name):\n",
    "    os.mkdir(model_name)\n",
    "        \n",
    "filepath = 'gdrive/My Drive/Gesture_Recog/'+ model_name + 'model-{epoch:05d}-{loss:.5f}-{categorical_accuracy:.5f}-{val_loss:.5f}-{val_categorical_accuracy:.5f}.h5'\n",
    "\n",
    "checkpoint = ModelCheckpoint(filepath, monitor='val_loss', verbose=1, save_best_only=False, save_weights_only=False, mode='auto', period=1)\n",
    "\n",
    "LR = ReduceLROnPlateau(monitor='val_loss', factor=0.5, patience=2, cooldown=1, verbose=1)  # write the REducelronplateau code here\n",
    "callbacks_list = [checkpoint, LR]"
   ]
  },
  {
   "cell_type": "markdown",
   "metadata": {
    "id": "nmA1oso-cGG4"
   },
   "source": [
    "The steps_per_epoch and validation_steps are used by fit_generator to decide the number of next() calls it need to make."
   ]
  },
  {
   "cell_type": "code",
   "execution_count": 98,
   "metadata": {
    "id": "tN9A6WxNbZxT"
   },
   "outputs": [],
   "source": [
    "if (num_train_sequences%batch_size) == 0:\n",
    "    steps_per_epoch = int(num_train_sequences/batch_size)\n",
    "else:\n",
    "    steps_per_epoch = (num_train_sequences//batch_size) + 1\n",
    "\n",
    "if (num_val_sequences%batch_size) == 0:\n",
    "    validation_steps = int(num_val_sequences/batch_size)\n",
    "else:\n",
    "    validation_steps = (num_val_sequences//batch_size) + 1"
   ]
  },
  {
   "cell_type": "markdown",
   "metadata": {
    "id": "d22kgKo1cU-4"
   },
   "source": [
    "Let us now fit the model. This will start training the model and with the help of the checkpoints, you'll be able to save the model at the end of each epoch."
   ]
  },
  {
   "cell_type": "code",
   "execution_count": 84,
   "metadata": {
    "colab": {
     "base_uri": "https://localhost:8080/"
    },
    "id": "S9j5bmG1cD1B",
    "outputId": "b8c8a71e-04fc-4e0f-dd90-c04e4ec538a6"
   },
   "outputs": [
    {
     "name": "stdout",
     "output_type": "stream",
     "text": [
      "Source path =  Project_data/train ; batch size = 13\n",
      "51/51 [==============================] - ETA: 0s - loss: 1.6242 - categorical_accuracy: 0.3756Source path =  Project_data/val ; batch size = 13\n",
      "51/51 [==============================] - 61s 1s/step - loss: 1.6242 - categorical_accuracy: 0.3756 - val_loss: 3.4595 - val_categorical_accuracy: 0.1700\n",
      "\n",
      "Epoch 00001: saving model to gdrive/My Drive/Gesture_Recog/model_init_2021-07-1110_16_18.363209/model-00001-1.62420-0.37557-3.45950-0.17000.h5\n"
     ]
    }
   ],
   "source": [
    "batch_size = 13\n",
    "num_epochs = 1\n",
    "history1 = model.fit(train_generator, steps_per_epoch=steps_per_epoch, epochs=num_epochs, verbose=1, \n",
    "                    callbacks=callbacks_list, validation_data=val_generator, \n",
    "                    validation_steps=validation_steps, class_weight=None, workers=1, initial_epoch=0)"
   ]
  },
  {
   "cell_type": "markdown",
   "metadata": {
    "id": "2EUmPYaefk-t"
   },
   "source": [
    "### **Model 1 - Conv3D (Batch Size - 39, No. of Epochs - 30)**"
   ]
  },
  {
   "cell_type": "code",
   "execution_count": 85,
   "metadata": {
    "id": "bON1898BJPC3"
   },
   "outputs": [],
   "source": [
    "# Input\n",
    "input_shape=(nb_frames,nb_rows,nb_cols,nb_channel)\n",
    "\n",
    "#write your model here\n",
    "model = Sequential()\n",
    "model.add(Conv3D(16, (3, 3, 3), padding='same',input_shape=input_shape))\n",
    "model.add(Activation('relu'))\n",
    "model.add(BatchNormalization())\n",
    "model.add(MaxPooling3D(pool_size=(2, 2, 2)))\n",
    "\n",
    "model.add(Conv3D(32, (3, 3, 3), padding='same'))\n",
    "model.add(Activation('relu'))\n",
    "model.add(BatchNormalization())\n",
    "model.add(MaxPooling3D(pool_size=(2, 2, 2)))\n",
    "\n",
    "model.add(Conv3D(64, (2, 2, 2), padding='same'))\n",
    "model.add(Activation('relu'))\n",
    "model.add(BatchNormalization())\n",
    "model.add(MaxPooling3D(pool_size=(2, 2, 2)))\n",
    "\n",
    "model.add(Conv3D(128, (2, 2, 2), padding='same'))\n",
    "model.add(Activation('relu'))\n",
    "model.add(BatchNormalization())\n",
    "model.add(MaxPooling3D(pool_size=(2, 2, 2)))\n",
    "        \n",
    "model.add(Flatten())\n",
    "\n",
    "model.add(Dense(128,activation='relu'))\n",
    "model.add(BatchNormalization())\n",
    "model.add(Dropout(0.25))\n",
    "\n",
    "model.add(Dense(64,activation='relu'))\n",
    "model.add(BatchNormalization())\n",
    "model.add(Dropout(0.25))\n",
    "\n",
    "model.add(Dense(5,activation='softmax'))"
   ]
  },
  {
   "cell_type": "markdown",
   "metadata": {
    "id": "oaB8tt07JPC4"
   },
   "source": [
    "Now that you have written the model, the next step is to `compile` the model. When you print the `summary` of the model, you'll see the total number of parameters you have to train."
   ]
  },
  {
   "cell_type": "code",
   "execution_count": 86,
   "metadata": {
    "colab": {
     "base_uri": "https://localhost:8080/"
    },
    "id": "iL8pBXkxJPC5",
    "outputId": "72dcb3b7-ff69-4d78-f817-8477e12d6001",
    "scrolled": true
   },
   "outputs": [
    {
     "name": "stdout",
     "output_type": "stream",
     "text": [
      "Model: \"sequential_7\"\n",
      "_________________________________________________________________\n",
      "Layer (type)                 Output Shape              Param #   \n",
      "=================================================================\n",
      "conv3d_20 (Conv3D)           (None, 30, 120, 120, 16)  1312      \n",
      "_________________________________________________________________\n",
      "activation_20 (Activation)   (None, 30, 120, 120, 16)  0         \n",
      "_________________________________________________________________\n",
      "batch_normalization_36 (Batc (None, 30, 120, 120, 16)  64        \n",
      "_________________________________________________________________\n",
      "max_pooling3d_20 (MaxPooling (None, 15, 60, 60, 16)    0         \n",
      "_________________________________________________________________\n",
      "conv3d_21 (Conv3D)           (None, 15, 60, 60, 32)    13856     \n",
      "_________________________________________________________________\n",
      "activation_21 (Activation)   (None, 15, 60, 60, 32)    0         \n",
      "_________________________________________________________________\n",
      "batch_normalization_37 (Batc (None, 15, 60, 60, 32)    128       \n",
      "_________________________________________________________________\n",
      "max_pooling3d_21 (MaxPooling (None, 7, 30, 30, 32)     0         \n",
      "_________________________________________________________________\n",
      "conv3d_22 (Conv3D)           (None, 7, 30, 30, 64)     16448     \n",
      "_________________________________________________________________\n",
      "activation_22 (Activation)   (None, 7, 30, 30, 64)     0         \n",
      "_________________________________________________________________\n",
      "batch_normalization_38 (Batc (None, 7, 30, 30, 64)     256       \n",
      "_________________________________________________________________\n",
      "max_pooling3d_22 (MaxPooling (None, 3, 15, 15, 64)     0         \n",
      "_________________________________________________________________\n",
      "conv3d_23 (Conv3D)           (None, 3, 15, 15, 128)    65664     \n",
      "_________________________________________________________________\n",
      "activation_23 (Activation)   (None, 3, 15, 15, 128)    0         \n",
      "_________________________________________________________________\n",
      "batch_normalization_39 (Batc (None, 3, 15, 15, 128)    512       \n",
      "_________________________________________________________________\n",
      "max_pooling3d_23 (MaxPooling (None, 1, 7, 7, 128)      0         \n",
      "_________________________________________________________________\n",
      "flatten_7 (Flatten)          (None, 6272)              0         \n",
      "_________________________________________________________________\n",
      "dense_19 (Dense)             (None, 128)               802944    \n",
      "_________________________________________________________________\n",
      "batch_normalization_40 (Batc (None, 128)               512       \n",
      "_________________________________________________________________\n",
      "dropout_14 (Dropout)         (None, 128)               0         \n",
      "_________________________________________________________________\n",
      "dense_20 (Dense)             (None, 64)                8256      \n",
      "_________________________________________________________________\n",
      "batch_normalization_41 (Batc (None, 64)                256       \n",
      "_________________________________________________________________\n",
      "dropout_15 (Dropout)         (None, 64)                0         \n",
      "_________________________________________________________________\n",
      "dense_21 (Dense)             (None, 5)                 325       \n",
      "=================================================================\n",
      "Total params: 910,533\n",
      "Trainable params: 909,669\n",
      "Non-trainable params: 864\n",
      "_________________________________________________________________\n",
      "None\n"
     ]
    }
   ],
   "source": [
    "from keras.optimizers import Adam\n",
    "optimiser = Adam()#write your optimizer\n",
    "model.compile(optimizer=optimiser, loss='categorical_crossentropy', metrics=['categorical_accuracy'])\n",
    "print (model.summary())"
   ]
  },
  {
   "cell_type": "code",
   "execution_count": 87,
   "metadata": {
    "colab": {
     "base_uri": "https://localhost:8080/"
    },
    "id": "Iv3u57DVJPC7",
    "outputId": "e0e13385-46f9-48b4-f706-59db6c7253ed",
    "scrolled": true
   },
   "outputs": [
    {
     "name": "stdout",
     "output_type": "stream",
     "text": [
      "Epoch 1/30\n",
      "51/51 [==============================] - 60s 1s/step - loss: 1.4744 - categorical_accuracy: 0.4570 - val_loss: 4.1774 - val_categorical_accuracy: 0.1250\n",
      "\n",
      "Epoch 00001: saving model to gdrive/My Drive/Gesture_Recog/model_init_2021-07-1110_16_18.363209/model-00001-1.47444-0.45701-4.17739-0.12500.h5\n",
      "Epoch 2/30\n",
      "51/51 [==============================] - 51s 1s/step - loss: 0.9601 - categorical_accuracy: 0.6305 - val_loss: 7.2134 - val_categorical_accuracy: 0.1250\n",
      "\n",
      "Epoch 00002: saving model to gdrive/My Drive/Gesture_Recog/model_init_2021-07-1110_16_18.363209/model-00002-0.96011-0.63047-7.21340-0.12500.h5\n",
      "Epoch 3/30\n",
      "51/51 [==============================] - 51s 1s/step - loss: 0.7985 - categorical_accuracy: 0.6863 - val_loss: 4.6522 - val_categorical_accuracy: 0.3750\n",
      "\n",
      "Epoch 00003: saving model to gdrive/My Drive/Gesture_Recog/model_init_2021-07-1110_16_18.363209/model-00003-0.79854-0.68627-4.65220-0.37500.h5\n",
      "\n",
      "Epoch 00003: ReduceLROnPlateau reducing learning rate to 0.0005000000237487257.\n",
      "Epoch 4/30\n",
      "51/51 [==============================] - 52s 1s/step - loss: 0.5958 - categorical_accuracy: 0.7783 - val_loss: 6.6033 - val_categorical_accuracy: 0.2500\n",
      "\n",
      "Epoch 00004: saving model to gdrive/My Drive/Gesture_Recog/model_init_2021-07-1110_16_18.363209/model-00004-0.59582-0.77828-6.60328-0.25000.h5\n",
      "Epoch 5/30\n",
      "51/51 [==============================] - 51s 1s/step - loss: 0.5027 - categorical_accuracy: 0.8009 - val_loss: 5.6885 - val_categorical_accuracy: 0.2500\n",
      "\n",
      "Epoch 00005: saving model to gdrive/My Drive/Gesture_Recog/model_init_2021-07-1110_16_18.363209/model-00005-0.50270-0.80090-5.68852-0.25000.h5\n",
      "\n",
      "Epoch 00005: ReduceLROnPlateau reducing learning rate to 0.0002500000118743628.\n",
      "Epoch 6/30\n",
      "51/51 [==============================] - 51s 1s/step - loss: 0.3930 - categorical_accuracy: 0.8582 - val_loss: 5.5000 - val_categorical_accuracy: 0.1250\n",
      "\n",
      "Epoch 00006: saving model to gdrive/My Drive/Gesture_Recog/model_init_2021-07-1110_16_18.363209/model-00006-0.39303-0.85822-5.50002-0.12500.h5\n",
      "Epoch 7/30\n",
      "51/51 [==============================] - 51s 1s/step - loss: 0.2879 - categorical_accuracy: 0.9095 - val_loss: 4.9883 - val_categorical_accuracy: 0.2500\n",
      "\n",
      "Epoch 00007: saving model to gdrive/My Drive/Gesture_Recog/model_init_2021-07-1110_16_18.363209/model-00007-0.28791-0.90950-4.98825-0.25000.h5\n",
      "\n",
      "Epoch 00007: ReduceLROnPlateau reducing learning rate to 0.0001250000059371814.\n",
      "Epoch 8/30\n",
      "51/51 [==============================] - 51s 1s/step - loss: 0.2587 - categorical_accuracy: 0.9216 - val_loss: 2.6216 - val_categorical_accuracy: 0.5000\n",
      "\n",
      "Epoch 00008: saving model to gdrive/My Drive/Gesture_Recog/model_init_2021-07-1110_16_18.363209/model-00008-0.25870-0.92157-2.62159-0.50000.h5\n",
      "Epoch 9/30\n",
      "51/51 [==============================] - 51s 1s/step - loss: 0.2634 - categorical_accuracy: 0.9170 - val_loss: 3.6895 - val_categorical_accuracy: 0.1250\n",
      "\n",
      "Epoch 00009: saving model to gdrive/My Drive/Gesture_Recog/model_init_2021-07-1110_16_18.363209/model-00009-0.26343-0.91704-3.68951-0.12500.h5\n",
      "Epoch 10/30\n",
      "51/51 [==============================] - 51s 1s/step - loss: 0.2149 - categorical_accuracy: 0.9351 - val_loss: 1.6470 - val_categorical_accuracy: 0.6250\n",
      "\n",
      "Epoch 00010: saving model to gdrive/My Drive/Gesture_Recog/model_init_2021-07-1110_16_18.363209/model-00010-0.21493-0.93514-1.64697-0.62500.h5\n",
      "Epoch 11/30\n",
      "51/51 [==============================] - 51s 1s/step - loss: 0.1801 - categorical_accuracy: 0.9623 - val_loss: 2.2135 - val_categorical_accuracy: 0.3750\n",
      "\n",
      "Epoch 00011: saving model to gdrive/My Drive/Gesture_Recog/model_init_2021-07-1110_16_18.363209/model-00011-0.18009-0.96229-2.21348-0.37500.h5\n",
      "Epoch 12/30\n",
      "51/51 [==============================] - 50s 998ms/step - loss: 0.2025 - categorical_accuracy: 0.9382 - val_loss: 0.7279 - val_categorical_accuracy: 0.7500\n",
      "\n",
      "Epoch 00012: saving model to gdrive/My Drive/Gesture_Recog/model_init_2021-07-1110_16_18.363209/model-00012-0.20250-0.93816-0.72793-0.75000.h5\n",
      "Epoch 13/30\n",
      "51/51 [==============================] - 51s 1s/step - loss: 0.2021 - categorical_accuracy: 0.9367 - val_loss: 0.3658 - val_categorical_accuracy: 0.8750\n",
      "\n",
      "Epoch 00013: saving model to gdrive/My Drive/Gesture_Recog/model_init_2021-07-1110_16_18.363209/model-00013-0.20208-0.93665-0.36578-0.87500.h5\n",
      "Epoch 14/30\n",
      "51/51 [==============================] - 51s 1s/step - loss: 0.1526 - categorical_accuracy: 0.9563 - val_loss: 0.7508 - val_categorical_accuracy: 0.7500\n",
      "\n",
      "Epoch 00014: saving model to gdrive/My Drive/Gesture_Recog/model_init_2021-07-1110_16_18.363209/model-00014-0.15261-0.95626-0.75076-0.75000.h5\n",
      "Epoch 15/30\n",
      "51/51 [==============================] - 51s 1s/step - loss: 0.1542 - categorical_accuracy: 0.9532 - val_loss: 0.2872 - val_categorical_accuracy: 0.8750\n",
      "\n",
      "Epoch 00015: saving model to gdrive/My Drive/Gesture_Recog/model_init_2021-07-1110_16_18.363209/model-00015-0.15416-0.95324-0.28722-0.87500.h5\n",
      "Epoch 16/30\n",
      "51/51 [==============================] - 51s 1s/step - loss: 0.1455 - categorical_accuracy: 0.9608 - val_loss: 0.2233 - val_categorical_accuracy: 0.8750\n",
      "\n",
      "Epoch 00016: saving model to gdrive/My Drive/Gesture_Recog/model_init_2021-07-1110_16_18.363209/model-00016-0.14551-0.96078-0.22331-0.87500.h5\n",
      "Epoch 17/30\n",
      "51/51 [==============================] - 51s 1s/step - loss: 0.1419 - categorical_accuracy: 0.9638 - val_loss: 0.1575 - val_categorical_accuracy: 1.0000\n",
      "\n",
      "Epoch 00017: saving model to gdrive/My Drive/Gesture_Recog/model_init_2021-07-1110_16_18.363209/model-00017-0.14186-0.96380-0.15746-1.00000.h5\n",
      "Epoch 18/30\n",
      "51/51 [==============================] - 51s 1s/step - loss: 0.1040 - categorical_accuracy: 0.9819 - val_loss: 1.2393 - val_categorical_accuracy: 0.6250\n",
      "\n",
      "Epoch 00018: saving model to gdrive/My Drive/Gesture_Recog/model_init_2021-07-1110_16_18.363209/model-00018-0.10400-0.98190-1.23933-0.62500.h5\n",
      "Epoch 19/30\n",
      "51/51 [==============================] - 51s 1s/step - loss: 0.0822 - categorical_accuracy: 0.9864 - val_loss: 0.1895 - val_categorical_accuracy: 0.8750\n",
      "\n",
      "Epoch 00019: saving model to gdrive/My Drive/Gesture_Recog/model_init_2021-07-1110_16_18.363209/model-00019-0.08224-0.98643-0.18947-0.87500.h5\n",
      "\n",
      "Epoch 00019: ReduceLROnPlateau reducing learning rate to 6.25000029685907e-05.\n",
      "Epoch 20/30\n",
      "51/51 [==============================] - 51s 1s/step - loss: 0.0945 - categorical_accuracy: 0.9819 - val_loss: 0.2782 - val_categorical_accuracy: 0.8750\n",
      "\n",
      "Epoch 00020: saving model to gdrive/My Drive/Gesture_Recog/model_init_2021-07-1110_16_18.363209/model-00020-0.09448-0.98190-0.27822-0.87500.h5\n",
      "Epoch 21/30\n",
      "51/51 [==============================] - 51s 1s/step - loss: 0.0834 - categorical_accuracy: 0.9879 - val_loss: 0.6063 - val_categorical_accuracy: 0.6250\n",
      "\n",
      "Epoch 00021: saving model to gdrive/My Drive/Gesture_Recog/model_init_2021-07-1110_16_18.363209/model-00021-0.08336-0.98793-0.60627-0.62500.h5\n",
      "\n",
      "Epoch 00021: ReduceLROnPlateau reducing learning rate to 3.125000148429535e-05.\n",
      "Epoch 22/30\n",
      "51/51 [==============================] - 51s 1s/step - loss: 0.0843 - categorical_accuracy: 0.9834 - val_loss: 1.1533 - val_categorical_accuracy: 0.6250\n",
      "\n",
      "Epoch 00022: saving model to gdrive/My Drive/Gesture_Recog/model_init_2021-07-1110_16_18.363209/model-00022-0.08425-0.98341-1.15335-0.62500.h5\n",
      "Epoch 23/30\n",
      "51/51 [==============================] - 51s 1s/step - loss: 0.1019 - categorical_accuracy: 0.9744 - val_loss: 0.3022 - val_categorical_accuracy: 0.7500\n",
      "\n",
      "Epoch 00023: saving model to gdrive/My Drive/Gesture_Recog/model_init_2021-07-1110_16_18.363209/model-00023-0.10190-0.97436-0.30220-0.75000.h5\n",
      "\n",
      "Epoch 00023: ReduceLROnPlateau reducing learning rate to 1.5625000742147677e-05.\n",
      "Epoch 24/30\n",
      "51/51 [==============================] - 51s 1s/step - loss: 0.0829 - categorical_accuracy: 0.9804 - val_loss: 0.5306 - val_categorical_accuracy: 0.8750\n",
      "\n",
      "Epoch 00024: saving model to gdrive/My Drive/Gesture_Recog/model_init_2021-07-1110_16_18.363209/model-00024-0.08294-0.98039-0.53057-0.87500.h5\n",
      "Epoch 25/30\n",
      "51/51 [==============================] - 51s 1s/step - loss: 0.0702 - categorical_accuracy: 0.9894 - val_loss: 0.3881 - val_categorical_accuracy: 0.7500\n",
      "\n",
      "Epoch 00025: saving model to gdrive/My Drive/Gesture_Recog/model_init_2021-07-1110_16_18.363209/model-00025-0.07016-0.98944-0.38811-0.75000.h5\n",
      "\n",
      "Epoch 00025: ReduceLROnPlateau reducing learning rate to 7.812500371073838e-06.\n",
      "Epoch 26/30\n",
      "51/51 [==============================] - 51s 1s/step - loss: 0.0746 - categorical_accuracy: 0.9864 - val_loss: 0.7396 - val_categorical_accuracy: 0.7500\n",
      "\n",
      "Epoch 00026: saving model to gdrive/My Drive/Gesture_Recog/model_init_2021-07-1110_16_18.363209/model-00026-0.07462-0.98643-0.73956-0.75000.h5\n",
      "Epoch 27/30\n",
      "51/51 [==============================] - 51s 1s/step - loss: 0.0949 - categorical_accuracy: 0.9834 - val_loss: 0.6205 - val_categorical_accuracy: 0.7500\n",
      "\n",
      "Epoch 00027: saving model to gdrive/My Drive/Gesture_Recog/model_init_2021-07-1110_16_18.363209/model-00027-0.09490-0.98341-0.62049-0.75000.h5\n",
      "\n",
      "Epoch 00027: ReduceLROnPlateau reducing learning rate to 3.906250185536919e-06.\n",
      "Epoch 28/30\n",
      "51/51 [==============================] - 51s 1s/step - loss: 0.1050 - categorical_accuracy: 0.9668 - val_loss: 0.2817 - val_categorical_accuracy: 0.7500\n",
      "\n",
      "Epoch 00028: saving model to gdrive/My Drive/Gesture_Recog/model_init_2021-07-1110_16_18.363209/model-00028-0.10504-0.96682-0.28166-0.75000.h5\n",
      "Epoch 29/30\n",
      "51/51 [==============================] - 51s 1s/step - loss: 0.0664 - categorical_accuracy: 0.9894 - val_loss: 0.5055 - val_categorical_accuracy: 0.7500\n",
      "\n",
      "Epoch 00029: saving model to gdrive/My Drive/Gesture_Recog/model_init_2021-07-1110_16_18.363209/model-00029-0.06637-0.98944-0.50554-0.75000.h5\n",
      "\n",
      "Epoch 00029: ReduceLROnPlateau reducing learning rate to 1.9531250927684596e-06.\n",
      "Epoch 30/30\n",
      "51/51 [==============================] - 51s 1s/step - loss: 0.1011 - categorical_accuracy: 0.9668 - val_loss: 0.0583 - val_categorical_accuracy: 1.0000\n",
      "\n",
      "Epoch 00030: saving model to gdrive/My Drive/Gesture_Recog/model_init_2021-07-1110_16_18.363209/model-00030-0.10107-0.96682-0.05829-1.00000.h5\n"
     ]
    }
   ],
   "source": [
    "batch_size = 39 \n",
    "num_epochs = 30\n",
    "history1 = model.fit(train_generator, steps_per_epoch=steps_per_epoch, epochs=num_epochs, verbose=1, \n",
    "                    callbacks=callbacks_list, validation_data=val_generator, \n",
    "                    validation_steps=validation_steps, class_weight=None, workers=1, initial_epoch=0)"
   ]
  },
  {
   "cell_type": "code",
   "execution_count": 89,
   "metadata": {
    "colab": {
     "base_uri": "https://localhost:8080/",
     "height": 265
    },
    "id": "li5F0Erq1gxO",
    "outputId": "c6939edf-b681-4b9d-aad7-eae92518d5a8"
   },
   "outputs": [
    {
     "data": {
      "image/png": "[encoded data removed]",
      "text/plain": [
       "<Figure size 1080x288 with 2 Axes>"
      ]
     },
     "metadata": {
      "needs_background": "light",
      "tags": []
     },
     "output_type": "display_data"
    }
   ],
   "source": [
    "plot(history1)"
   ]
  },
  {
   "cell_type": "markdown",
   "metadata": {
    "id": "LlNjK6ykzbTn"
   },
   "source": [
    "- Categorical Accuracy = 96.6%\n",
    "- Validation Accuracy  = 100 %"
   ]
  },
  {
   "cell_type": "markdown",
   "metadata": {},
   "source": [
    "**Inference - Model seems to be overfitting and there are alot of fluctuations in the validation accuracy. For some sample of the validation data it gives high accuracy but for some very low.**"
   ]
  },
  {
   "cell_type": "markdown",
   "metadata": {
    "id": "kCQeolJJJPC8"
   },
   "source": [
    "### **Model 2 - Conv2D (Batch Size - 17, No. of Epochs - 30)**"
   ]
  },
  {
   "cell_type": "code",
   "execution_count": 99,
   "metadata": {
    "colab": {
     "base_uri": "https://localhost:8080/"
    },
    "id": "Ia2Rx8pSJPC8",
    "outputId": "6adaa50c-b21d-41a6-bad2-b7e06d02ef3f"
   },
   "outputs": [
    {
     "name": "stdout",
     "output_type": "stream",
     "text": [
      "Source path =  Project_data/train ; batch size = 17\n",
      "Epoch 1/30\n",
      "39/39 [==============================] - ETA: 0s - loss: 0.0708 - categorical_accuracy: 0.9894Source path =  Project_data/val ; batch size = 17\n",
      "15\n",
      "39/39 [==============================] - 62s 2s/step - loss: 0.0708 - categorical_accuracy: 0.9894 - val_loss: 0.4543 - val_categorical_accuracy: 0.8100\n",
      "\n",
      "Epoch 00001: saving model to gdrive/My Drive/Gesture_Recog/model_init_2021-07-1110_16_18.363209/model-00001-0.07081-0.98944-0.45434-0.81000.h5\n",
      "Epoch 2/30\n",
      "39/39 [==============================] - ETA: 0s - loss: 0.0600 - categorical_accuracy: 0.991010\n",
      "39/39 [==============================] - 58s 2s/step - loss: 0.0600 - categorical_accuracy: 0.9910 - val_loss: 0.5552 - val_categorical_accuracy: 0.8000\n",
      "\n",
      "Epoch 00002: saving model to gdrive/My Drive/Gesture_Recog/model_init_2021-07-1110_16_18.363209/model-00002-0.06001-0.99095-0.55516-0.80000.h5\n",
      "Epoch 3/30\n",
      "39/39 [==============================] - 56s 1s/step - loss: 0.0548 - categorical_accuracy: 0.9910 - val_loss: 0.3829 - val_categorical_accuracy: 0.8333\n",
      "\n",
      "Epoch 00003: saving model to gdrive/My Drive/Gesture_Recog/model_init_2021-07-1110_16_18.363209/model-00003-0.05479-0.99095-0.38291-0.83333.h5\n",
      "Epoch 4/30\n",
      "39/39 [==============================] - 56s 1s/step - loss: 0.0673 - categorical_accuracy: 0.9910 - val_loss: 0.3242 - val_categorical_accuracy: 0.8500\n",
      "\n",
      "Epoch 00004: saving model to gdrive/My Drive/Gesture_Recog/model_init_2021-07-1110_16_18.363209/model-00004-0.06726-0.99095-0.32423-0.85000.h5\n",
      "Epoch 5/30\n",
      "39/39 [==============================] - 56s 1s/step - loss: 0.0655 - categorical_accuracy: 0.9864 - val_loss: 0.2848 - val_categorical_accuracy: 0.8833\n",
      "\n",
      "Epoch 00005: saving model to gdrive/My Drive/Gesture_Recog/model_init_2021-07-1110_16_18.363209/model-00005-0.06548-0.98643-0.28480-0.88333.h5\n",
      "Epoch 6/30\n",
      "39/39 [==============================] - 56s 1s/step - loss: 0.0805 - categorical_accuracy: 0.9849 - val_loss: 0.5229 - val_categorical_accuracy: 0.7833\n",
      "\n",
      "Epoch 00006: saving model to gdrive/My Drive/Gesture_Recog/model_init_2021-07-1110_16_18.363209/model-00006-0.08049-0.98492-0.52294-0.78333.h5\n",
      "Epoch 7/30\n",
      "39/39 [==============================] - 56s 1s/step - loss: 0.0618 - categorical_accuracy: 0.9910 - val_loss: 0.3942 - val_categorical_accuracy: 0.8667\n",
      "\n",
      "Epoch 00007: saving model to gdrive/My Drive/Gesture_Recog/model_init_2021-07-1110_16_18.363209/model-00007-0.06180-0.99095-0.39422-0.86667.h5\n",
      "\n",
      "Epoch 00007: ReduceLROnPlateau reducing learning rate to 5.820766367818295e-14.\n",
      "Epoch 8/30\n",
      "39/39 [==============================] - 56s 1s/step - loss: 0.0599 - categorical_accuracy: 0.9910 - val_loss: 0.4474 - val_categorical_accuracy: 0.8333\n",
      "\n",
      "Epoch 00008: saving model to gdrive/My Drive/Gesture_Recog/model_init_2021-07-1110_16_18.363209/model-00008-0.05991-0.99095-0.44736-0.83333.h5\n",
      "Epoch 9/30\n",
      "39/39 [==============================] - 56s 1s/step - loss: 0.0674 - categorical_accuracy: 0.9925 - val_loss: 0.5179 - val_categorical_accuracy: 0.7667\n",
      "\n",
      "Epoch 00009: saving model to gdrive/My Drive/Gesture_Recog/model_init_2021-07-1110_16_18.363209/model-00009-0.06739-0.99246-0.51787-0.76667.h5\n",
      "\n",
      "Epoch 00009: ReduceLROnPlateau reducing learning rate to 2.9103831839091474e-14.\n",
      "Epoch 10/30\n",
      "39/39 [==============================] - 56s 1s/step - loss: 0.0654 - categorical_accuracy: 0.9879 - val_loss: 0.4124 - val_categorical_accuracy: 0.8167\n",
      "\n",
      "Epoch 00010: saving model to gdrive/My Drive/Gesture_Recog/model_init_2021-07-1110_16_18.363209/model-00010-0.06538-0.98793-0.41245-0.81667.h5\n",
      "Epoch 11/30\n",
      "39/39 [==============================] - 56s 1s/step - loss: 0.0562 - categorical_accuracy: 0.9940 - val_loss: 0.4543 - val_categorical_accuracy: 0.7667\n",
      "\n",
      "Epoch 00011: saving model to gdrive/My Drive/Gesture_Recog/model_init_2021-07-1110_16_18.363209/model-00011-0.05621-0.99397-0.45434-0.76667.h5\n",
      "\n",
      "Epoch 00011: ReduceLROnPlateau reducing learning rate to 1.4551915919545737e-14.\n",
      "Epoch 12/30\n",
      "39/39 [==============================] - 56s 1s/step - loss: 0.0522 - categorical_accuracy: 0.9970 - val_loss: 0.4174 - val_categorical_accuracy: 0.8667\n",
      "\n",
      "Epoch 00012: saving model to gdrive/My Drive/Gesture_Recog/model_init_2021-07-1110_16_18.363209/model-00012-0.05217-0.99698-0.41744-0.86667.h5\n",
      "Epoch 13/30\n",
      "39/39 [==============================] - 57s 1s/step - loss: 0.0584 - categorical_accuracy: 0.9955 - val_loss: 0.3902 - val_categorical_accuracy: 0.8500\n",
      "\n",
      "Epoch 00013: saving model to gdrive/My Drive/Gesture_Recog/model_init_2021-07-1110_16_18.363209/model-00013-0.05841-0.99548-0.39020-0.85000.h5\n",
      "\n",
      "Epoch 00013: ReduceLROnPlateau reducing learning rate to 7.275957959772868e-15.\n",
      "Epoch 14/30\n",
      "39/39 [==============================] - 56s 1s/step - loss: 0.0542 - categorical_accuracy: 0.9925 - val_loss: 0.3106 - val_categorical_accuracy: 0.9167\n",
      "\n",
      "Epoch 00014: saving model to gdrive/My Drive/Gesture_Recog/model_init_2021-07-1110_16_18.363209/model-00014-0.05417-0.99246-0.31056-0.91667.h5\n",
      "Epoch 15/30\n",
      "39/39 [==============================] - 57s 1s/step - loss: 0.0748 - categorical_accuracy: 0.9849 - val_loss: 0.3429 - val_categorical_accuracy: 0.8667\n",
      "\n",
      "Epoch 00015: saving model to gdrive/My Drive/Gesture_Recog/model_init_2021-07-1110_16_18.363209/model-00015-0.07476-0.98492-0.34294-0.86667.h5\n",
      "\n",
      "Epoch 00015: ReduceLROnPlateau reducing learning rate to 3.637978979886434e-15.\n",
      "Epoch 16/30\n",
      "39/39 [==============================] - 57s 1s/step - loss: 0.0684 - categorical_accuracy: 0.9834 - val_loss: 0.3467 - val_categorical_accuracy: 0.8333\n",
      "\n",
      "Epoch 00016: saving model to gdrive/My Drive/Gesture_Recog/model_init_2021-07-1110_16_18.363209/model-00016-0.06841-0.98341-0.34668-0.83333.h5\n",
      "Epoch 17/30\n",
      "39/39 [==============================] - 56s 1s/step - loss: 0.0636 - categorical_accuracy: 0.9955 - val_loss: 0.5460 - val_categorical_accuracy: 0.8000\n",
      "\n",
      "Epoch 00017: saving model to gdrive/My Drive/Gesture_Recog/model_init_2021-07-1110_16_18.363209/model-00017-0.06363-0.99548-0.54604-0.80000.h5\n",
      "\n",
      "Epoch 00017: ReduceLROnPlateau reducing learning rate to 1.818989489943217e-15.\n",
      "Epoch 18/30\n",
      "39/39 [==============================] - 56s 1s/step - loss: 0.0833 - categorical_accuracy: 0.9879 - val_loss: 0.3037 - val_categorical_accuracy: 0.8167\n",
      "\n",
      "Epoch 00018: saving model to gdrive/My Drive/Gesture_Recog/model_init_2021-07-1110_16_18.363209/model-00018-0.08329-0.98793-0.30368-0.81667.h5\n",
      "Epoch 19/30\n",
      "39/39 [==============================] - 57s 1s/step - loss: 0.0500 - categorical_accuracy: 0.9940 - val_loss: 0.5503 - val_categorical_accuracy: 0.8167\n",
      "\n",
      "Epoch 00019: saving model to gdrive/My Drive/Gesture_Recog/model_init_2021-07-1110_16_18.363209/model-00019-0.05003-0.99397-0.55032-0.81667.h5\n",
      "\n",
      "Epoch 00019: ReduceLROnPlateau reducing learning rate to 9.094947449716085e-16.\n",
      "Epoch 20/30\n",
      "39/39 [==============================] - 56s 1s/step - loss: 0.0582 - categorical_accuracy: 0.9970 - val_loss: 0.4234 - val_categorical_accuracy: 0.8333\n",
      "\n",
      "Epoch 00020: saving model to gdrive/My Drive/Gesture_Recog/model_init_2021-07-1110_16_18.363209/model-00020-0.05823-0.99698-0.42342-0.83333.h5\n",
      "Epoch 21/30\n",
      "39/39 [==============================] - 56s 1s/step - loss: 0.0497 - categorical_accuracy: 0.9940 - val_loss: 0.4512 - val_categorical_accuracy: 0.8333\n",
      "\n",
      "Epoch 00021: saving model to gdrive/My Drive/Gesture_Recog/model_init_2021-07-1110_16_18.363209/model-00021-0.04965-0.99397-0.45121-0.83333.h5\n",
      "\n",
      "Epoch 00021: ReduceLROnPlateau reducing learning rate to 4.547473724858043e-16.\n",
      "Epoch 22/30\n",
      "39/39 [==============================] - 56s 1s/step - loss: 0.0677 - categorical_accuracy: 0.9894 - val_loss: 0.3547 - val_categorical_accuracy: 0.8333\n",
      "\n",
      "Epoch 00022: saving model to gdrive/My Drive/Gesture_Recog/model_init_2021-07-1110_16_18.363209/model-00022-0.06773-0.98944-0.35465-0.83333.h5\n",
      "Epoch 23/30\n",
      "39/39 [==============================] - 56s 1s/step - loss: 0.0636 - categorical_accuracy: 0.9925 - val_loss: 0.4225 - val_categorical_accuracy: 0.8500\n",
      "\n",
      "Epoch 00023: saving model to gdrive/My Drive/Gesture_Recog/model_init_2021-07-1110_16_18.363209/model-00023-0.06356-0.99246-0.42248-0.85000.h5\n",
      "\n",
      "Epoch 00023: ReduceLROnPlateau reducing learning rate to 2.2737368624290214e-16.\n",
      "Epoch 24/30\n",
      "39/39 [==============================] - 56s 1s/step - loss: 0.0695 - categorical_accuracy: 0.9925 - val_loss: 0.4989 - val_categorical_accuracy: 0.8000\n",
      "\n",
      "Epoch 00024: saving model to gdrive/My Drive/Gesture_Recog/model_init_2021-07-1110_16_18.363209/model-00024-0.06950-0.99246-0.49888-0.80000.h5\n",
      "Epoch 25/30\n",
      "39/39 [==============================] - 57s 1s/step - loss: 0.0508 - categorical_accuracy: 0.9970 - val_loss: 0.4835 - val_categorical_accuracy: 0.8167\n",
      "\n",
      "Epoch 00025: saving model to gdrive/My Drive/Gesture_Recog/model_init_2021-07-1110_16_18.363209/model-00025-0.05084-0.99698-0.48347-0.81667.h5\n",
      "\n",
      "Epoch 00025: ReduceLROnPlateau reducing learning rate to 1.1368684312145107e-16.\n",
      "Epoch 26/30\n",
      "39/39 [==============================] - 56s 1s/step - loss: 0.0538 - categorical_accuracy: 0.9970 - val_loss: 0.2941 - val_categorical_accuracy: 0.8833\n",
      "\n",
      "Epoch 00026: saving model to gdrive/My Drive/Gesture_Recog/model_init_2021-07-1110_16_18.363209/model-00026-0.05383-0.99698-0.29406-0.88333.h5\n",
      "Epoch 27/30\n",
      "39/39 [==============================] - 56s 1s/step - loss: 0.0657 - categorical_accuracy: 0.9940 - val_loss: 0.4692 - val_categorical_accuracy: 0.7833\n",
      "\n",
      "Epoch 00027: saving model to gdrive/My Drive/Gesture_Recog/model_init_2021-07-1110_16_18.363209/model-00027-0.06568-0.99397-0.46919-0.78333.h5\n",
      "\n",
      "Epoch 00027: ReduceLROnPlateau reducing learning rate to 5.684342156072553e-17.\n",
      "Epoch 28/30\n",
      "39/39 [==============================] - 56s 1s/step - loss: 0.0615 - categorical_accuracy: 0.9925 - val_loss: 0.3575 - val_categorical_accuracy: 0.8333\n",
      "\n",
      "Epoch 00028: saving model to gdrive/My Drive/Gesture_Recog/model_init_2021-07-1110_16_18.363209/model-00028-0.06146-0.99246-0.35748-0.83333.h5\n",
      "Epoch 29/30\n",
      "39/39 [==============================] - 56s 1s/step - loss: 0.0678 - categorical_accuracy: 0.9864 - val_loss: 0.4601 - val_categorical_accuracy: 0.8167\n",
      "\n",
      "Epoch 00029: saving model to gdrive/My Drive/Gesture_Recog/model_init_2021-07-1110_16_18.363209/model-00029-0.06778-0.98643-0.46007-0.81667.h5\n",
      "\n",
      "Epoch 00029: ReduceLROnPlateau reducing learning rate to 2.842171078036277e-17.\n",
      "Epoch 30/30\n",
      "39/39 [==============================] - 56s 1s/step - loss: 0.0723 - categorical_accuracy: 0.9879 - val_loss: 0.3787 - val_categorical_accuracy: 0.8500\n",
      "\n",
      "Epoch 00030: saving model to gdrive/My Drive/Gesture_Recog/model_init_2021-07-1110_16_18.363209/model-00030-0.07225-0.98793-0.37868-0.85000.h5\n"
     ]
    }
   ],
   "source": [
    "batch_size = 17\n",
    "num_epochs = 30\n",
    "\n",
    "if (num_train_sequences%batch_size) == 0:\n",
    "    steps_per_epoch = int(num_train_sequences/batch_size)\n",
    "else:\n",
    "    steps_per_epoch = (num_train_sequences//batch_size) + 1\n",
    "\n",
    "if (num_val_sequences%batch_size) == 0:\n",
    "    validation_steps = int(num_val_sequences/batch_size)\n",
    "else:\n",
    "    validation_steps = (num_val_sequences//batch_size) + 1\n",
    "    \n",
    "history2 = model.fit_generator(train_generator, steps_per_epoch=steps_per_epoch, epochs=num_epochs, verbose=1, \n",
    "                    callbacks=callbacks_list, validation_data=val_generator, \n",
    "                    validation_steps=validation_steps, class_weight=None, workers=1, initial_epoch=0)"
   ]
  },
  {
   "cell_type": "code",
   "execution_count": 100,
   "metadata": {
    "colab": {
     "base_uri": "https://localhost:8080/",
     "height": 265
    },
    "id": "msxMdbAStMRD",
    "outputId": "a796dd73-793a-4382-fbe1-ca16f7779a84"
   },
   "outputs": [
    {
     "data": {
      "image/png": "[encoded data removed]",
      "text/plain": [
       "<Figure size 1080x288 with 2 Axes>"
      ]
     },
     "metadata": {
      "needs_background": "light",
      "tags": []
     },
     "output_type": "display_data"
    }
   ],
   "source": [
    "plot(history2)"
   ]
  },
  {
   "cell_type": "markdown",
   "metadata": {
    "id": "e0TNS80RzbTp"
   },
   "source": [
    "- Categorical Accuracy = 98%\n",
    "- Validation Accuracy = 85%"
   ]
  },
  {
   "cell_type": "markdown",
   "metadata": {},
   "source": [
    "**Inference - Model performs well on the training data but not on the validation data. Hence overfits.**"
   ]
  },
  {
   "cell_type": "markdown",
   "metadata": {
    "id": "KoRTDdo4zbTp"
   },
   "source": [
    "### **Model 3 - Conv3D Increasing Dropout to reduce Overfitting (Batch Size - 17, No. of Epochs - 25)**"
   ]
  },
  {
   "cell_type": "code",
   "execution_count": 109,
   "metadata": {
    "colab": {
     "base_uri": "https://localhost:8080/"
    },
    "id": "itZtcpAuVwGp",
    "outputId": "c348e2c7-c481-4796-e94e-8d815539c474"
   },
   "outputs": [
    {
     "name": "stdout",
     "output_type": "stream",
     "text": [
      "Model: \"sequential_9\"\n",
      "_________________________________________________________________\n",
      "Layer (type)                 Output Shape              Param #   \n",
      "=================================================================\n",
      "conv3d_28 (Conv3D)           (None, 30, 120, 120, 16)  1312      \n",
      "_________________________________________________________________\n",
      "activation_28 (Activation)   (None, 30, 120, 120, 16)  0         \n",
      "_________________________________________________________________\n",
      "batch_normalization_48 (Batc (None, 30, 120, 120, 16)  64        \n",
      "_________________________________________________________________\n",
      "max_pooling3d_28 (MaxPooling (None, 15, 60, 60, 16)    0         \n",
      "_________________________________________________________________\n",
      "conv3d_29 (Conv3D)           (None, 15, 60, 60, 32)    4128      \n",
      "_________________________________________________________________\n",
      "activation_29 (Activation)   (None, 15, 60, 60, 32)    0         \n",
      "_________________________________________________________________\n",
      "batch_normalization_49 (Batc (None, 15, 60, 60, 32)    128       \n",
      "_________________________________________________________________\n",
      "max_pooling3d_29 (MaxPooling (None, 7, 30, 30, 32)     0         \n",
      "_________________________________________________________________\n",
      "conv3d_30 (Conv3D)           (None, 7, 30, 30, 64)     16448     \n",
      "_________________________________________________________________\n",
      "activation_30 (Activation)   (None, 7, 30, 30, 64)     0         \n",
      "_________________________________________________________________\n",
      "batch_normalization_50 (Batc (None, 7, 30, 30, 64)     256       \n",
      "_________________________________________________________________\n",
      "max_pooling3d_30 (MaxPooling (None, 3, 15, 15, 64)     0         \n",
      "_________________________________________________________________\n",
      "conv3d_31 (Conv3D)           (None, 3, 15, 15, 128)    65664     \n",
      "_________________________________________________________________\n",
      "activation_31 (Activation)   (None, 3, 15, 15, 128)    0         \n",
      "_________________________________________________________________\n",
      "batch_normalization_51 (Batc (None, 3, 15, 15, 128)    512       \n",
      "_________________________________________________________________\n",
      "max_pooling3d_31 (MaxPooling (None, 1, 7, 7, 128)      0         \n",
      "_________________________________________________________________\n",
      "flatten_9 (Flatten)          (None, 6272)              0         \n",
      "_________________________________________________________________\n",
      "dense_25 (Dense)             (None, 128)               802944    \n",
      "_________________________________________________________________\n",
      "batch_normalization_52 (Batc (None, 128)               512       \n",
      "_________________________________________________________________\n",
      "dropout_18 (Dropout)         (None, 128)               0         \n",
      "_________________________________________________________________\n",
      "dense_26 (Dense)             (None, 64)                8256      \n",
      "_________________________________________________________________\n",
      "batch_normalization_53 (Batc (None, 64)                256       \n",
      "_________________________________________________________________\n",
      "dropout_19 (Dropout)         (None, 64)                0         \n",
      "_________________________________________________________________\n",
      "dense_27 (Dense)             (None, 5)                 325       \n",
      "=================================================================\n",
      "Total params: 900,805\n",
      "Trainable params: 899,941\n",
      "Non-trainable params: 864\n",
      "_________________________________________________________________\n",
      "None\n"
     ]
    }
   ],
   "source": [
    "model = Sequential()\n",
    "model.add(Conv3D(16, (3, 3, 3), padding='same',input_shape=(30,120,120,3)))\n",
    "model.add(Activation('relu'))\n",
    "model.add(BatchNormalization())\n",
    "model.add(MaxPooling3D(pool_size=(2, 2, 2)))\n",
    "\n",
    "model.add(Conv3D(32, (2, 2, 2), padding='same'))\n",
    "model.add(Activation('relu'))\n",
    "model.add(BatchNormalization())\n",
    "model.add(MaxPooling3D(pool_size=(2, 2, 2)))\n",
    "\n",
    "model.add(Conv3D(64, (2, 2, 2), padding='same'))\n",
    "model.add(Activation('relu'))\n",
    "model.add(BatchNormalization())\n",
    "model.add(MaxPooling3D(pool_size=(2, 2, 2)))\n",
    "model.add(Conv3D(128, (2, 2, 2), padding='same'))\n",
    "model.add(Activation('relu'))\n",
    "model.add(BatchNormalization())\n",
    "model.add(MaxPooling3D(pool_size=(2, 2, 2)))\n",
    "model.add(Flatten())\n",
    "model.add(Dense(128,activation='relu'))\n",
    "model.add(BatchNormalization())\n",
    "model.add(Dropout(0.5))\n",
    "\n",
    "model.add(Dense(64,activation='relu'))\n",
    "model.add(BatchNormalization())\n",
    "model.add(Dropout(0.5))\n",
    "\n",
    "\n",
    "model.add(Dense(5,activation='softmax'))\n",
    "\n",
    "optimiser = optimizers.Adam()\n",
    "model.compile(optimizer=optimiser, loss='categorical_crossentropy', metrics=['categorical_accuracy'])\n",
    "print (model.summary())"
   ]
  },
  {
   "cell_type": "code",
   "execution_count": 110,
   "metadata": {
    "colab": {
     "base_uri": "https://localhost:8080/"
    },
    "id": "wRH-Yn3bqUFI",
    "outputId": "304465b9-9a43-48c4-b765-fb1eeaf29e06"
   },
   "outputs": [
    {
     "name": "stdout",
     "output_type": "stream",
     "text": [
      "Epoch 1/25\n",
      "39/39 [==============================] - 64s 1s/step - loss: 1.9475 - categorical_accuracy: 0.3756 - val_loss: 2.4115 - val_categorical_accuracy: 0.1500\n",
      "\n",
      "Epoch 00001: saving model to gdrive/My Drive/Gesture_Recog/model_init_2021-07-1110_16_18.363209/model-00001-1.94749-0.37557-2.41152-0.15000.h5\n",
      "Epoch 2/25\n",
      "39/39 [==============================] - 57s 1s/step - loss: 1.5736 - categorical_accuracy: 0.4374 - val_loss: 4.8213 - val_categorical_accuracy: 0.1833\n",
      "\n",
      "Epoch 00002: saving model to gdrive/My Drive/Gesture_Recog/model_init_2021-07-1110_16_18.363209/model-00002-1.57362-0.43741-4.82130-0.18333.h5\n",
      "Epoch 3/25\n",
      "39/39 [==============================] - 60s 2s/step - loss: 1.2761 - categorical_accuracy: 0.5309 - val_loss: 6.9476 - val_categorical_accuracy: 0.1500\n",
      "\n",
      "Epoch 00003: saving model to gdrive/My Drive/Gesture_Recog/model_init_2021-07-1110_16_18.363209/model-00003-1.27612-0.53092-6.94756-0.15000.h5\n",
      "\n",
      "Epoch 00003: ReduceLROnPlateau reducing learning rate to 0.0005000000237487257.\n",
      "Epoch 4/25\n",
      "39/39 [==============================] - 56s 1s/step - loss: 1.0627 - categorical_accuracy: 0.6169 - val_loss: 8.9172 - val_categorical_accuracy: 0.1500\n",
      "\n",
      "Epoch 00004: saving model to gdrive/My Drive/Gesture_Recog/model_init_2021-07-1110_16_18.363209/model-00004-1.06269-0.61689-8.91717-0.15000.h5\n",
      "Epoch 5/25\n",
      "39/39 [==============================] - 57s 2s/step - loss: 1.0008 - categorical_accuracy: 0.6425 - val_loss: 9.0340 - val_categorical_accuracy: 0.1000\n",
      "\n",
      "Epoch 00005: saving model to gdrive/My Drive/Gesture_Recog/model_init_2021-07-1110_16_18.363209/model-00005-1.00082-0.64253-9.03400-0.10000.h5\n",
      "\n",
      "Epoch 00005: ReduceLROnPlateau reducing learning rate to 0.0002500000118743628.\n",
      "Epoch 6/25\n",
      "39/39 [==============================] - 57s 1s/step - loss: 0.8652 - categorical_accuracy: 0.6682 - val_loss: 6.5166 - val_categorical_accuracy: 0.1833\n",
      "\n",
      "Epoch 00006: saving model to gdrive/My Drive/Gesture_Recog/model_init_2021-07-1110_16_18.363209/model-00006-0.86516-0.66817-6.51657-0.18333.h5\n",
      "Epoch 7/25\n",
      "39/39 [==============================] - 57s 1s/step - loss: 0.7588 - categorical_accuracy: 0.7104 - val_loss: 4.8389 - val_categorical_accuracy: 0.1667\n",
      "\n",
      "Epoch 00007: saving model to gdrive/My Drive/Gesture_Recog/model_init_2021-07-1110_16_18.363209/model-00007-0.75881-0.71041-4.83886-0.16667.h5\n",
      "\n",
      "Epoch 00007: ReduceLROnPlateau reducing learning rate to 0.0001250000059371814.\n",
      "Epoch 8/25\n",
      "39/39 [==============================] - 57s 1s/step - loss: 0.7477 - categorical_accuracy: 0.7255 - val_loss: 4.1773 - val_categorical_accuracy: 0.2500\n",
      "\n",
      "Epoch 00008: saving model to gdrive/My Drive/Gesture_Recog/model_init_2021-07-1110_16_18.363209/model-00008-0.74771-0.72549-4.17726-0.25000.h5\n",
      "Epoch 9/25\n",
      "39/39 [==============================] - 57s 1s/step - loss: 0.6548 - categorical_accuracy: 0.7436 - val_loss: 3.2389 - val_categorical_accuracy: 0.3500\n",
      "\n",
      "Epoch 00009: saving model to gdrive/My Drive/Gesture_Recog/model_init_2021-07-1110_16_18.363209/model-00009-0.65475-0.74359-3.23891-0.35000.h5\n",
      "\n",
      "Epoch 00009: ReduceLROnPlateau reducing learning rate to 6.25000029685907e-05.\n",
      "Epoch 10/25\n",
      "39/39 [==============================] - 57s 1s/step - loss: 0.7101 - categorical_accuracy: 0.7345 - val_loss: 2.7306 - val_categorical_accuracy: 0.4000\n",
      "\n",
      "Epoch 00010: saving model to gdrive/My Drive/Gesture_Recog/model_init_2021-07-1110_16_18.363209/model-00010-0.71006-0.73454-2.73061-0.40000.h5\n",
      "Epoch 11/25\n",
      "39/39 [==============================] - 57s 1s/step - loss: 0.6782 - categorical_accuracy: 0.7406 - val_loss: 2.3289 - val_categorical_accuracy: 0.3500\n",
      "\n",
      "Epoch 00011: saving model to gdrive/My Drive/Gesture_Recog/model_init_2021-07-1110_16_18.363209/model-00011-0.67821-0.74057-2.32893-0.35000.h5\n",
      "Epoch 12/25\n",
      "39/39 [==============================] - 57s 1s/step - loss: 0.6407 - categorical_accuracy: 0.7511 - val_loss: 2.0746 - val_categorical_accuracy: 0.3667\n",
      "\n",
      "Epoch 00012: saving model to gdrive/My Drive/Gesture_Recog/model_init_2021-07-1110_16_18.363209/model-00012-0.64073-0.75113-2.07463-0.36667.h5\n",
      "Epoch 13/25\n",
      "39/39 [==============================] - 57s 1s/step - loss: 0.6157 - categorical_accuracy: 0.7798 - val_loss: 1.1100 - val_categorical_accuracy: 0.6000\n",
      "\n",
      "Epoch 00013: saving model to gdrive/My Drive/Gesture_Recog/model_init_2021-07-1110_16_18.363209/model-00013-0.61566-0.77979-1.11003-0.60000.h5\n",
      "Epoch 14/25\n",
      "39/39 [==============================] - 57s 1s/step - loss: 0.5597 - categorical_accuracy: 0.7888 - val_loss: 1.4048 - val_categorical_accuracy: 0.5500\n",
      "\n",
      "Epoch 00014: saving model to gdrive/My Drive/Gesture_Recog/model_init_2021-07-1110_16_18.363209/model-00014-0.55971-0.78884-1.40477-0.55000.h5\n",
      "Epoch 15/25\n",
      "39/39 [==============================] - 57s 1s/step - loss: 0.5658 - categorical_accuracy: 0.7873 - val_loss: 0.9945 - val_categorical_accuracy: 0.6833\n",
      "\n",
      "Epoch 00015: saving model to gdrive/My Drive/Gesture_Recog/model_init_2021-07-1110_16_18.363209/model-00015-0.56581-0.78733-0.99449-0.68333.h5\n",
      "Epoch 16/25\n",
      "39/39 [==============================] - 61s 2s/step - loss: 0.5464 - categorical_accuracy: 0.8009 - val_loss: 0.8321 - val_categorical_accuracy: 0.7000\n",
      "\n",
      "Epoch 00016: saving model to gdrive/My Drive/Gesture_Recog/model_init_2021-07-1110_16_18.363209/model-00016-0.54637-0.80090-0.83212-0.70000.h5\n",
      "Epoch 17/25\n",
      "39/39 [==============================] - 56s 1s/step - loss: 0.5156 - categorical_accuracy: 0.7964 - val_loss: 0.6526 - val_categorical_accuracy: 0.7833\n",
      "\n",
      "Epoch 00017: saving model to gdrive/My Drive/Gesture_Recog/model_init_2021-07-1110_16_18.363209/model-00017-0.51557-0.79638-0.65260-0.78333.h5\n",
      "Epoch 18/25\n",
      "39/39 [==============================] - 60s 2s/step - loss: 0.4646 - categorical_accuracy: 0.8477 - val_loss: 0.8043 - val_categorical_accuracy: 0.7500\n",
      "\n",
      "Epoch 00018: saving model to gdrive/My Drive/Gesture_Recog/model_init_2021-07-1110_16_18.363209/model-00018-0.46460-0.84766-0.80429-0.75000.h5\n",
      "Epoch 19/25\n",
      "39/39 [==============================] - 57s 1s/step - loss: 0.5112 - categorical_accuracy: 0.8115 - val_loss: 0.5276 - val_categorical_accuracy: 0.8333\n",
      "\n",
      "Epoch 00019: saving model to gdrive/My Drive/Gesture_Recog/model_init_2021-07-1110_16_18.363209/model-00019-0.51117-0.81146-0.52763-0.83333.h5\n",
      "Epoch 20/25\n",
      "39/39 [==============================] - 56s 1s/step - loss: 0.4592 - categorical_accuracy: 0.8341 - val_loss: 0.6136 - val_categorical_accuracy: 0.8667\n",
      "\n",
      "Epoch 00020: saving model to gdrive/My Drive/Gesture_Recog/model_init_2021-07-1110_16_18.363209/model-00020-0.45923-0.83409-0.61361-0.86667.h5\n",
      "Epoch 21/25\n",
      "39/39 [==============================] - 57s 1s/step - loss: 0.5592 - categorical_accuracy: 0.7994 - val_loss: 0.6192 - val_categorical_accuracy: 0.8167\n",
      "\n",
      "Epoch 00021: saving model to gdrive/My Drive/Gesture_Recog/model_init_2021-07-1110_16_18.363209/model-00021-0.55921-0.79940-0.61924-0.81667.h5\n",
      "\n",
      "Epoch 00021: ReduceLROnPlateau reducing learning rate to 3.125000148429535e-05.\n",
      "Epoch 22/25\n",
      "39/39 [==============================] - 56s 1s/step - loss: 0.4786 - categorical_accuracy: 0.8130 - val_loss: 0.5609 - val_categorical_accuracy: 0.7833\n",
      "\n",
      "Epoch 00022: saving model to gdrive/My Drive/Gesture_Recog/model_init_2021-07-1110_16_18.363209/model-00022-0.47858-0.81297-0.56095-0.78333.h5\n",
      "Epoch 23/25\n",
      "39/39 [==============================] - 56s 1s/step - loss: 0.4454 - categorical_accuracy: 0.8341 - val_loss: 0.5906 - val_categorical_accuracy: 0.8167\n",
      "\n",
      "Epoch 00023: saving model to gdrive/My Drive/Gesture_Recog/model_init_2021-07-1110_16_18.363209/model-00023-0.44543-0.83409-0.59061-0.81667.h5\n",
      "\n",
      "Epoch 00023: ReduceLROnPlateau reducing learning rate to 1.5625000742147677e-05.\n",
      "Epoch 24/25\n",
      "39/39 [==============================] - 56s 1s/step - loss: 0.4147 - categorical_accuracy: 0.8537 - val_loss: 0.5962 - val_categorical_accuracy: 0.8000\n",
      "\n",
      "Epoch 00024: saving model to gdrive/My Drive/Gesture_Recog/model_init_2021-07-1110_16_18.363209/model-00024-0.41469-0.85370-0.59617-0.80000.h5\n",
      "Epoch 25/25\n",
      "39/39 [==============================] - 57s 1s/step - loss: 0.3991 - categorical_accuracy: 0.8537 - val_loss: 0.5164 - val_categorical_accuracy: 0.8333\n",
      "\n",
      "Epoch 00025: saving model to gdrive/My Drive/Gesture_Recog/model_init_2021-07-1110_16_18.363209/model-00025-0.39907-0.85370-0.51638-0.83333.h5\n"
     ]
    }
   ],
   "source": [
    "batch_size = 17\n",
    "num_epochs = 25\n",
    "\n",
    "if (num_train_sequences%batch_size) == 0:\n",
    "    steps_per_epoch = int(num_train_sequences/batch_size)\n",
    "else:\n",
    "    steps_per_epoch = (num_train_sequences//batch_size) + 1\n",
    "\n",
    "if (num_val_sequences%batch_size) == 0:\n",
    "    validation_steps = int(num_val_sequences/batch_size)\n",
    "else:\n",
    "    validation_steps = (num_val_sequences//batch_size) + 1\n",
    "    \n",
    "history3 = model.fit_generator(train_generator, steps_per_epoch=steps_per_epoch, epochs=num_epochs, verbose=1, \n",
    "                    callbacks=callbacks_list, validation_data=val_generator, \n",
    "                    validation_steps=validation_steps, class_weight=None, workers=1, initial_epoch=0)"
   ]
  },
  {
   "cell_type": "code",
   "execution_count": 111,
   "metadata": {
    "colab": {
     "base_uri": "https://localhost:8080/",
     "height": 268
    },
    "id": "-XtwMcGqsFoI",
    "outputId": "cffe5aad-98ef-4949-a5a4-a1cea1ad9160"
   },
   "outputs": [
    {
     "data": {
      "image/png": "[encoded data removed]",
      "text/plain": [
       "<Figure size 1080x288 with 2 Axes>"
      ]
     },
     "metadata": {
      "needs_background": "light",
      "tags": []
     },
     "output_type": "display_data"
    }
   ],
   "source": [
    "plot(history3)"
   ]
  },
  {
   "cell_type": "markdown",
   "metadata": {
    "id": "XWzBo0FRzbTq"
   },
   "source": [
    "- Categorical Accuracy = 85.3%\n",
    "- Validation Accuracy = 83.3%"
   ]
  },
  {
   "cell_type": "markdown",
   "metadata": {},
   "source": [
    "**Inference - Here we see that the model performs well  both on the training and validation data. Also, fluctuations in the validation accuracy have reduced.**"
   ]
  },
  {
   "cell_type": "markdown",
   "metadata": {
    "id": "ugBH7KK_sNZi"
   },
   "source": [
    "### **Model 4 (CNN GRU)**"
   ]
  },
  {
   "cell_type": "code",
   "execution_count": 112,
   "metadata": {
    "id": "m0nbBCuEWsra"
   },
   "outputs": [],
   "source": [
    "from tensorflow.keras.layers import LSTM,GRU\n",
    "input_shape=(nb_frames,nb_rows,nb_cols,nb_channel)\n",
    "\n",
    "model = Sequential()\n",
    "\n",
    "model.add(TimeDistributed(Conv2D(16, (3, 3) , padding='same', activation='relu'),\n",
    "                                  input_shape=input_shape))\n",
    "model.add(TimeDistributed(BatchNormalization()))\n",
    "model.add(TimeDistributed(MaxPooling2D((2, 2))))\n",
    "        \n",
    "model.add(TimeDistributed(Conv2D(32, (3, 3) , padding='same', activation='relu')))\n",
    "model.add(TimeDistributed(BatchNormalization()))\n",
    "model.add(TimeDistributed(MaxPooling2D((2, 2))))\n",
    "        \n",
    "model.add(TimeDistributed(Conv2D(64, (3, 3) , padding='same', activation='relu')))\n",
    "model.add(TimeDistributed(BatchNormalization()))\n",
    "model.add(TimeDistributed(MaxPooling2D((2, 2))))\n",
    "        \n",
    "model.add(TimeDistributed(Conv2D(128, (3, 3) , padding='same', activation='relu')))\n",
    "model.add(TimeDistributed(BatchNormalization()))\n",
    "model.add(TimeDistributed(MaxPooling2D((2, 2))))\n",
    "        \n",
    "model.add(TimeDistributed(Conv2D(256, (3, 3) , padding='same', activation='relu')))\n",
    "model.add(TimeDistributed(BatchNormalization()))\n",
    "model.add(TimeDistributed(MaxPooling2D((2, 2))))\n",
    "\n",
    "model.add(TimeDistributed(Flatten()))\n",
    "\n",
    "model.add(GRU(128))\n",
    "model.add(Dropout(0.3))\n",
    "        \n",
    "model.add(Dense(128,activation='relu'))\n",
    "model.add(Dropout(0.3))\n",
    "        \n",
    "model.add(Dense(5, activation='softmax'))"
   ]
  },
  {
   "cell_type": "code",
   "execution_count": 113,
   "metadata": {
    "colab": {
     "base_uri": "https://localhost:8080/"
    },
    "id": "4qN4ZhzC9cV4",
    "outputId": "cc352bb9-d3ef-4bfc-8a4b-e605bfa67a38"
   },
   "outputs": [
    {
     "name": "stdout",
     "output_type": "stream",
     "text": [
      "Model: \"sequential_10\"\n",
      "_________________________________________________________________\n",
      "Layer (type)                 Output Shape              Param #   \n",
      "=================================================================\n",
      "time_distributed_20 (TimeDis (None, 30, 120, 120, 16)  448       \n",
      "_________________________________________________________________\n",
      "time_distributed_21 (TimeDis (None, 30, 120, 120, 16)  64        \n",
      "_________________________________________________________________\n",
      "time_distributed_22 (TimeDis (None, 30, 60, 60, 16)    0         \n",
      "_________________________________________________________________\n",
      "time_distributed_23 (TimeDis (None, 30, 60, 60, 32)    4640      \n",
      "_________________________________________________________________\n",
      "time_distributed_24 (TimeDis (None, 30, 60, 60, 32)    128       \n",
      "_________________________________________________________________\n",
      "time_distributed_25 (TimeDis (None, 30, 30, 30, 32)    0         \n",
      "_________________________________________________________________\n",
      "time_distributed_26 (TimeDis (None, 30, 30, 30, 64)    18496     \n",
      "_________________________________________________________________\n",
      "time_distributed_27 (TimeDis (None, 30, 30, 30, 64)    256       \n",
      "_________________________________________________________________\n",
      "time_distributed_28 (TimeDis (None, 30, 15, 15, 64)    0         \n",
      "_________________________________________________________________\n",
      "time_distributed_29 (TimeDis (None, 30, 15, 15, 128)   73856     \n",
      "_________________________________________________________________\n",
      "time_distributed_30 (TimeDis (None, 30, 15, 15, 128)   512       \n",
      "_________________________________________________________________\n",
      "time_distributed_31 (TimeDis (None, 30, 7, 7, 128)     0         \n",
      "_________________________________________________________________\n",
      "time_distributed_32 (TimeDis (None, 30, 7, 7, 256)     295168    \n",
      "_________________________________________________________________\n",
      "time_distributed_33 (TimeDis (None, 30, 7, 7, 256)     1024      \n",
      "_________________________________________________________________\n",
      "time_distributed_34 (TimeDis (None, 30, 3, 3, 256)     0         \n",
      "_________________________________________________________________\n",
      "time_distributed_35 (TimeDis (None, 30, 2304)          0         \n",
      "_________________________________________________________________\n",
      "gru_1 (GRU)                  (None, 128)               934656    \n",
      "_________________________________________________________________\n",
      "dropout_20 (Dropout)         (None, 128)               0         \n",
      "_________________________________________________________________\n",
      "dense_28 (Dense)             (None, 128)               16512     \n",
      "_________________________________________________________________\n",
      "dropout_21 (Dropout)         (None, 128)               0         \n",
      "_________________________________________________________________\n",
      "dense_29 (Dense)             (None, 5)                 645       \n",
      "=================================================================\n",
      "Total params: 1,346,405\n",
      "Trainable params: 1,345,413\n",
      "Non-trainable params: 992\n",
      "_________________________________________________________________\n",
      "None\n"
     ]
    }
   ],
   "source": [
    "optimiser = Adam()#write your optimizer\n",
    "model.compile(optimizer=optimiser, loss='categorical_crossentropy', metrics=['categorical_accuracy'])\n",
    "print (model.summary())"
   ]
  },
  {
   "cell_type": "code",
   "execution_count": 114,
   "metadata": {
    "colab": {
     "base_uri": "https://localhost:8080/"
    },
    "id": "-XJZZUd_9wc1",
    "outputId": "71119eba-a063-407d-bead-8887e86770ed"
   },
   "outputs": [
    {
     "name": "stdout",
     "output_type": "stream",
     "text": [
      "Epoch 1/30\n",
      "39/39 [==============================] - 59s 1s/step - loss: 1.5301 - categorical_accuracy: 0.3605 - val_loss: 2.3427 - val_categorical_accuracy: 0.1667\n",
      "\n",
      "Epoch 00001: saving model to gdrive/My Drive/Gesture_Recog/model_init_2021-07-1110_16_18.363209/model-00001-1.53008-0.36048-2.34273-0.16667.h5\n",
      "Epoch 2/30\n",
      "39/39 [==============================] - 55s 1s/step - loss: 1.2122 - categorical_accuracy: 0.4872 - val_loss: 2.6830 - val_categorical_accuracy: 0.1833\n",
      "\n",
      "Epoch 00002: saving model to gdrive/My Drive/Gesture_Recog/model_init_2021-07-1110_16_18.363209/model-00002-1.21223-0.48718-2.68301-0.18333.h5\n",
      "Epoch 3/30\n",
      "39/39 [==============================] - 56s 1s/step - loss: 1.0891 - categorical_accuracy: 0.5354 - val_loss: 2.8182 - val_categorical_accuracy: 0.2000\n",
      "\n",
      "Epoch 00003: saving model to gdrive/My Drive/Gesture_Recog/model_init_2021-07-1110_16_18.363209/model-00003-1.08908-0.53544-2.81822-0.20000.h5\n",
      "\n",
      "Epoch 00003: ReduceLROnPlateau reducing learning rate to 0.0005000000237487257.\n",
      "Epoch 4/30\n",
      "39/39 [==============================] - 56s 1s/step - loss: 0.8563 - categorical_accuracy: 0.6682 - val_loss: 2.6226 - val_categorical_accuracy: 0.2333\n",
      "\n",
      "Epoch 00004: saving model to gdrive/My Drive/Gesture_Recog/model_init_2021-07-1110_16_18.363209/model-00004-0.85631-0.66817-2.62259-0.23333.h5\n",
      "Epoch 5/30\n",
      "39/39 [==============================] - 55s 1s/step - loss: 0.7964 - categorical_accuracy: 0.6998 - val_loss: 2.9929 - val_categorical_accuracy: 0.1500\n",
      "\n",
      "Epoch 00005: saving model to gdrive/My Drive/Gesture_Recog/model_init_2021-07-1110_16_18.363209/model-00005-0.79635-0.69985-2.99290-0.15000.h5\n",
      "\n",
      "Epoch 00005: ReduceLROnPlateau reducing learning rate to 0.0002500000118743628.\n",
      "Epoch 6/30\n",
      "39/39 [==============================] - 54s 1s/step - loss: 0.6858 - categorical_accuracy: 0.7391 - val_loss: 2.6156 - val_categorical_accuracy: 0.1667\n",
      "\n",
      "Epoch 00006: saving model to gdrive/My Drive/Gesture_Recog/model_init_2021-07-1110_16_18.363209/model-00006-0.68583-0.73906-2.61558-0.16667.h5\n",
      "Epoch 7/30\n",
      "39/39 [==============================] - 55s 1s/step - loss: 0.5552 - categorical_accuracy: 0.8039 - val_loss: 2.4507 - val_categorical_accuracy: 0.2000\n",
      "\n",
      "Epoch 00007: saving model to gdrive/My Drive/Gesture_Recog/model_init_2021-07-1110_16_18.363209/model-00007-0.55518-0.80392-2.45070-0.20000.h5\n",
      "\n",
      "Epoch 00007: ReduceLROnPlateau reducing learning rate to 0.0001250000059371814.\n",
      "Epoch 8/30\n",
      "39/39 [==============================] - 55s 1s/step - loss: 0.4821 - categorical_accuracy: 0.8311 - val_loss: 2.5233 - val_categorical_accuracy: 0.1833\n",
      "\n",
      "Epoch 00008: saving model to gdrive/My Drive/Gesture_Recog/model_init_2021-07-1110_16_18.363209/model-00008-0.48213-0.83107-2.52327-0.18333.h5\n",
      "Epoch 9/30\n",
      "39/39 [==============================] - 56s 1s/step - loss: 0.4274 - categorical_accuracy: 0.8627 - val_loss: 2.9050 - val_categorical_accuracy: 0.2000\n",
      "\n",
      "Epoch 00009: saving model to gdrive/My Drive/Gesture_Recog/model_init_2021-07-1110_16_18.363209/model-00009-0.42741-0.86275-2.90502-0.20000.h5\n",
      "\n",
      "Epoch 00009: ReduceLROnPlateau reducing learning rate to 6.25000029685907e-05.\n",
      "Epoch 10/30\n",
      "39/39 [==============================] - 54s 1s/step - loss: 0.3508 - categorical_accuracy: 0.8748 - val_loss: 2.6500 - val_categorical_accuracy: 0.3167\n",
      "\n",
      "Epoch 00010: saving model to gdrive/My Drive/Gesture_Recog/model_init_2021-07-1110_16_18.363209/model-00010-0.35075-0.87481-2.64996-0.31667.h5\n",
      "Epoch 11/30\n",
      "39/39 [==============================] - 55s 1s/step - loss: 0.3395 - categorical_accuracy: 0.8778 - val_loss: 2.3529 - val_categorical_accuracy: 0.4000\n",
      "\n",
      "Epoch 00011: saving model to gdrive/My Drive/Gesture_Recog/model_init_2021-07-1110_16_18.363209/model-00011-0.33947-0.87783-2.35293-0.40000.h5\n",
      "\n",
      "Epoch 00011: ReduceLROnPlateau reducing learning rate to 3.125000148429535e-05.\n",
      "Epoch 12/30\n",
      "39/39 [==============================] - 56s 1s/step - loss: 0.3098 - categorical_accuracy: 0.9035 - val_loss: 2.3277 - val_categorical_accuracy: 0.3333\n",
      "\n",
      "Epoch 00012: saving model to gdrive/My Drive/Gesture_Recog/model_init_2021-07-1110_16_18.363209/model-00012-0.30978-0.90347-2.32769-0.33333.h5\n",
      "Epoch 13/30\n",
      "39/39 [==============================] - 54s 1s/step - loss: 0.3260 - categorical_accuracy: 0.8884 - val_loss: 1.9022 - val_categorical_accuracy: 0.4167\n",
      "\n",
      "Epoch 00013: saving model to gdrive/My Drive/Gesture_Recog/model_init_2021-07-1110_16_18.363209/model-00013-0.32598-0.88839-1.90221-0.41667.h5\n",
      "Epoch 14/30\n",
      "39/39 [==============================] - 56s 1s/step - loss: 0.2820 - categorical_accuracy: 0.9231 - val_loss: 1.4585 - val_categorical_accuracy: 0.5333\n",
      "\n",
      "Epoch 00014: saving model to gdrive/My Drive/Gesture_Recog/model_init_2021-07-1110_16_18.363209/model-00014-0.28201-0.92308-1.45853-0.53333.h5\n",
      "Epoch 15/30\n",
      "39/39 [==============================] - 55s 1s/step - loss: 0.2870 - categorical_accuracy: 0.9050 - val_loss: 1.3048 - val_categorical_accuracy: 0.5500\n",
      "\n",
      "Epoch 00015: saving model to gdrive/My Drive/Gesture_Recog/model_init_2021-07-1110_16_18.363209/model-00015-0.28705-0.90498-1.30476-0.55000.h5\n",
      "Epoch 16/30\n",
      "39/39 [==============================] - 55s 1s/step - loss: 0.2894 - categorical_accuracy: 0.8989 - val_loss: 1.0544 - val_categorical_accuracy: 0.6667\n",
      "\n",
      "Epoch 00016: saving model to gdrive/My Drive/Gesture_Recog/model_init_2021-07-1110_16_18.363209/model-00016-0.28940-0.89894-1.05437-0.66667.h5\n",
      "Epoch 17/30\n",
      "39/39 [==============================] - 55s 1s/step - loss: 0.2762 - categorical_accuracy: 0.9231 - val_loss: 0.8133 - val_categorical_accuracy: 0.7000\n",
      "\n",
      "Epoch 00017: saving model to gdrive/My Drive/Gesture_Recog/model_init_2021-07-1110_16_18.363209/model-00017-0.27617-0.92308-0.81331-0.70000.h5\n",
      "Epoch 18/30\n",
      "39/39 [==============================] - 56s 1s/step - loss: 0.2622 - categorical_accuracy: 0.9291 - val_loss: 0.8483 - val_categorical_accuracy: 0.6667\n",
      "\n",
      "Epoch 00018: saving model to gdrive/My Drive/Gesture_Recog/model_init_2021-07-1110_16_18.363209/model-00018-0.26221-0.92911-0.84832-0.66667.h5\n",
      "Epoch 19/30\n",
      "39/39 [==============================] - 55s 1s/step - loss: 0.2546 - categorical_accuracy: 0.9276 - val_loss: 0.6429 - val_categorical_accuracy: 0.7833\n",
      "\n",
      "Epoch 00019: saving model to gdrive/My Drive/Gesture_Recog/model_init_2021-07-1110_16_18.363209/model-00019-0.25461-0.92760-0.64287-0.78333.h5\n",
      "Epoch 20/30\n",
      "39/39 [==============================] - 55s 1s/step - loss: 0.2400 - categorical_accuracy: 0.9351 - val_loss: 0.6456 - val_categorical_accuracy: 0.7167\n",
      "\n",
      "Epoch 00020: saving model to gdrive/My Drive/Gesture_Recog/model_init_2021-07-1110_16_18.363209/model-00020-0.23995-0.93514-0.64560-0.71667.h5\n",
      "Epoch 21/30\n",
      "39/39 [==============================] - 56s 1s/step - loss: 0.2668 - categorical_accuracy: 0.9336 - val_loss: 0.6051 - val_categorical_accuracy: 0.8333\n",
      "\n",
      "Epoch 00021: saving model to gdrive/My Drive/Gesture_Recog/model_init_2021-07-1110_16_18.363209/model-00021-0.26684-0.93363-0.60508-0.83333.h5\n",
      "Epoch 22/30\n",
      "39/39 [==============================] - 55s 1s/step - loss: 0.2146 - categorical_accuracy: 0.9472 - val_loss: 0.7824 - val_categorical_accuracy: 0.7500\n",
      "\n",
      "Epoch 00022: saving model to gdrive/My Drive/Gesture_Recog/model_init_2021-07-1110_16_18.363209/model-00022-0.21456-0.94721-0.78242-0.75000.h5\n",
      "Epoch 23/30\n",
      "39/39 [==============================] - 54s 1s/step - loss: 0.2298 - categorical_accuracy: 0.9306 - val_loss: 0.7422 - val_categorical_accuracy: 0.7333\n",
      "\n",
      "Epoch 00023: saving model to gdrive/My Drive/Gesture_Recog/model_init_2021-07-1110_16_18.363209/model-00023-0.22983-0.93062-0.74223-0.73333.h5\n",
      "\n",
      "Epoch 00023: ReduceLROnPlateau reducing learning rate to 1.5625000742147677e-05.\n",
      "Epoch 24/30\n",
      "39/39 [==============================] - 55s 1s/step - loss: 0.1943 - categorical_accuracy: 0.9472 - val_loss: 0.7522 - val_categorical_accuracy: 0.7333\n",
      "\n",
      "Epoch 00024: saving model to gdrive/My Drive/Gesture_Recog/model_init_2021-07-1110_16_18.363209/model-00024-0.19432-0.94721-0.75222-0.73333.h5\n",
      "Epoch 25/30\n",
      "39/39 [==============================] - 55s 1s/step - loss: 0.2040 - categorical_accuracy: 0.9412 - val_loss: 0.6921 - val_categorical_accuracy: 0.7333\n",
      "\n",
      "Epoch 00025: saving model to gdrive/My Drive/Gesture_Recog/model_init_2021-07-1110_16_18.363209/model-00025-0.20404-0.94118-0.69213-0.73333.h5\n",
      "\n",
      "Epoch 00025: ReduceLROnPlateau reducing learning rate to 7.812500371073838e-06.\n",
      "Epoch 26/30\n",
      "39/39 [==============================] - 55s 1s/step - loss: 0.1864 - categorical_accuracy: 0.9487 - val_loss: 0.6135 - val_categorical_accuracy: 0.8000\n",
      "\n",
      "Epoch 00026: saving model to gdrive/My Drive/Gesture_Recog/model_init_2021-07-1110_16_18.363209/model-00026-0.18643-0.94872-0.61346-0.80000.h5\n",
      "Epoch 27/30\n",
      "39/39 [==============================] - 55s 1s/step - loss: 0.1957 - categorical_accuracy: 0.9427 - val_loss: 0.7776 - val_categorical_accuracy: 0.7333\n",
      "\n",
      "Epoch 00027: saving model to gdrive/My Drive/Gesture_Recog/model_init_2021-07-1110_16_18.363209/model-00027-0.19567-0.94268-0.77765-0.73333.h5\n",
      "\n",
      "Epoch 00027: ReduceLROnPlateau reducing learning rate to 3.906250185536919e-06.\n",
      "Epoch 28/30\n",
      "39/39 [==============================] - 55s 1s/step - loss: 0.1773 - categorical_accuracy: 0.9563 - val_loss: 0.6546 - val_categorical_accuracy: 0.7500\n",
      "\n",
      "Epoch 00028: saving model to gdrive/My Drive/Gesture_Recog/model_init_2021-07-1110_16_18.363209/model-00028-0.17727-0.95626-0.65463-0.75000.h5\n",
      "Epoch 29/30\n",
      "39/39 [==============================] - 54s 1s/step - loss: 0.2014 - categorical_accuracy: 0.9367 - val_loss: 0.5798 - val_categorical_accuracy: 0.7833\n",
      "\n",
      "Epoch 00029: saving model to gdrive/My Drive/Gesture_Recog/model_init_2021-07-1110_16_18.363209/model-00029-0.20135-0.93665-0.57977-0.78333.h5\n",
      "Epoch 30/30\n",
      "39/39 [==============================] - 55s 1s/step - loss: 0.1972 - categorical_accuracy: 0.9532 - val_loss: 0.5372 - val_categorical_accuracy: 0.7667\n",
      "\n",
      "Epoch 00030: saving model to gdrive/My Drive/Gesture_Recog/model_init_2021-07-1110_16_18.363209/model-00030-0.19716-0.95324-0.53719-0.76667.h5\n"
     ]
    }
   ],
   "source": [
    "batch_size=39\n",
    "num_epochs=30\n",
    "\n",
    "history4 = model.fit_generator(train_generator, steps_per_epoch=steps_per_epoch, epochs=num_epochs, verbose=1, \n",
    "                    callbacks=callbacks_list, validation_data=val_generator, \n",
    "                    validation_steps=validation_steps, class_weight=None, workers=1, initial_epoch=0)"
   ]
  },
  {
   "cell_type": "code",
   "execution_count": 115,
   "metadata": {
    "colab": {
     "base_uri": "https://localhost:8080/",
     "height": 265
    },
    "id": "9UD2EfBegquu",
    "outputId": "8ef0a310-6ac7-4e09-c966-a00ede5ce85f"
   },
   "outputs": [
    {
     "data": {
      "image/png": "[encoded data removed]",
      "text/plain": [
       "<Figure size 1080x288 with 2 Axes>"
      ]
     },
     "metadata": {
      "needs_background": "light",
      "tags": []
     },
     "output_type": "display_data"
    }
   ],
   "source": [
    "plot(history4)"
   ]
  },
  {
   "cell_type": "markdown",
   "metadata": {
    "id": "oiosBFs2zbTr"
   },
   "source": [
    "- Categorical Accuracy = 95%\n",
    "- Validation Accuracy = 76%\n",
    "\n",
    "**This model does not give a good accuracy on the validation data**"
   ]
  },
  {
   "cell_type": "markdown",
   "metadata": {
    "id": "H2gt2YXxzbTr"
   },
   "source": [
    "### **Model 5 (Transfer Learning using MobileNet and training all weights)**"
   ]
  },
  {
   "cell_type": "code",
   "execution_count": 116,
   "metadata": {
    "id": "ZifNi-ziA-CS"
   },
   "outputs": [],
   "source": [
    "import tensorflow as tf\n",
    "from tensorflow.keras.layers import Flatten, GRU, Dropout, TimeDistributed, Dense\n",
    "from tensorflow.keras.applications import mobilenet"
   ]
  },
  {
   "cell_type": "code",
   "execution_count": 117,
   "metadata": {
    "colab": {
     "base_uri": "https://localhost:8080/"
    },
    "id": "PpEt8KbX7iMJ",
    "outputId": "3189d87e-16d8-4f6c-b001-a8314c35c256"
   },
   "outputs": [
    {
     "name": "stdout",
     "output_type": "stream",
     "text": [
      "WARNING:tensorflow:`input_shape` is undefined or non-square, or `rows` is not in [128, 160, 192, 224]. Weights for input shape (224, 224) will be loaded as the default.\n"
     ]
    }
   ],
   "source": [
    "\n",
    "input_shape=(nb_frames,nb_rows,nb_cols,nb_channel)\n",
    "mobilenet_transfer = mobilenet.MobileNet(weights='imagenet', include_top=False)\n",
    "\n",
    "model = Sequential()\n",
    "model.add(TimeDistributed(mobilenet_transfer,input_shape=input_shape))\n",
    "\n",
    "model.add(TimeDistributed(BatchNormalization()))\n",
    "model.add(TimeDistributed(MaxPooling2D((2, 2))))\n",
    "model.add(TimeDistributed(Flatten()))\n",
    "\n",
    "model.add(LSTM(128))\n",
    "model.add(Dropout(0.25))\n",
    "        \n",
    "model.add(Dense(128,activation='relu'))\n",
    "model.add(Dropout(0.25))\n",
    "        \n",
    "model.add(Dense(5, activation='softmax'))"
   ]
  },
  {
   "cell_type": "code",
   "execution_count": 118,
   "metadata": {
    "colab": {
     "base_uri": "https://localhost:8080/"
    },
    "id": "BANgapaKDjGM",
    "outputId": "c846e020-1517-4575-d006-8f45e52ed114"
   },
   "outputs": [
    {
     "name": "stdout",
     "output_type": "stream",
     "text": [
      "Model: \"sequential_11\"\n",
      "_________________________________________________________________\n",
      "Layer (type)                 Output Shape              Param #   \n",
      "=================================================================\n",
      "time_distributed_36 (TimeDis (None, 30, 3, 3, 1024)    3228864   \n",
      "_________________________________________________________________\n",
      "time_distributed_37 (TimeDis (None, 30, 3, 3, 1024)    4096      \n",
      "_________________________________________________________________\n",
      "time_distributed_38 (TimeDis (None, 30, 1, 1, 1024)    0         \n",
      "_________________________________________________________________\n",
      "time_distributed_39 (TimeDis (None, 30, 1024)          0         \n",
      "_________________________________________________________________\n",
      "lstm_1 (LSTM)                (None, 128)               590336    \n",
      "_________________________________________________________________\n",
      "dropout_22 (Dropout)         (None, 128)               0         \n",
      "_________________________________________________________________\n",
      "dense_30 (Dense)             (None, 128)               16512     \n",
      "_________________________________________________________________\n",
      "dropout_23 (Dropout)         (None, 128)               0         \n",
      "_________________________________________________________________\n",
      "dense_31 (Dense)             (None, 5)                 645       \n",
      "=================================================================\n",
      "Total params: 3,840,453\n",
      "Trainable params: 3,816,517\n",
      "Non-trainable params: 23,936\n",
      "_________________________________________________________________\n",
      "None\n"
     ]
    }
   ],
   "source": [
    "optimiser = Adam()#write your optimizer\n",
    "model.compile(optimizer=optimiser, loss='categorical_crossentropy', metrics=['categorical_accuracy'])\n",
    "print (model.summary())"
   ]
  },
  {
   "cell_type": "code",
   "execution_count": 119,
   "metadata": {
    "colab": {
     "base_uri": "https://localhost:8080/"
    },
    "id": "D0KUUrLdDp9C",
    "outputId": "902c03f4-1a62-46a8-8127-71685ccd02f9"
   },
   "outputs": [
    {
     "name": "stdout",
     "output_type": "stream",
     "text": [
      "Epoch 1/25\n",
      "39/39 [==============================] - 72s 2s/step - loss: 1.1619 - categorical_accuracy: 0.5294 - val_loss: 0.7626 - val_categorical_accuracy: 0.7000\n",
      "\n",
      "Epoch 00001: saving model to gdrive/My Drive/Gesture_Recog/model_init_2021-07-1110_16_18.363209/model-00001-1.16187-0.52941-0.76259-0.70000.h5\n",
      "Epoch 2/25\n",
      "39/39 [==============================] - 62s 2s/step - loss: 0.5444 - categorical_accuracy: 0.7934 - val_loss: 0.7071 - val_categorical_accuracy: 0.7333\n",
      "\n",
      "Epoch 00002: saving model to gdrive/My Drive/Gesture_Recog/model_init_2021-07-1110_16_18.363209/model-00002-0.54444-0.79336-0.70710-0.73333.h5\n",
      "Epoch 3/25\n",
      "39/39 [==============================] - 63s 2s/step - loss: 0.4064 - categorical_accuracy: 0.8582 - val_loss: 0.5921 - val_categorical_accuracy: 0.7667\n",
      "\n",
      "Epoch 00003: saving model to gdrive/My Drive/Gesture_Recog/model_init_2021-07-1110_16_18.363209/model-00003-0.40645-0.85822-0.59207-0.76667.h5\n",
      "Epoch 4/25\n",
      "39/39 [==============================] - 63s 2s/step - loss: 0.3904 - categorical_accuracy: 0.8597 - val_loss: 0.8246 - val_categorical_accuracy: 0.7500\n",
      "\n",
      "Epoch 00004: saving model to gdrive/My Drive/Gesture_Recog/model_init_2021-07-1110_16_18.363209/model-00004-0.39041-0.85973-0.82459-0.75000.h5\n",
      "Epoch 5/25\n",
      "39/39 [==============================] - 62s 2s/step - loss: 0.3700 - categorical_accuracy: 0.8537 - val_loss: 1.0329 - val_categorical_accuracy: 0.6500\n",
      "\n",
      "Epoch 00005: saving model to gdrive/My Drive/Gesture_Recog/model_init_2021-07-1110_16_18.363209/model-00005-0.37004-0.85370-1.03290-0.65000.h5\n",
      "\n",
      "Epoch 00005: ReduceLROnPlateau reducing learning rate to 0.0005000000237487257.\n",
      "Epoch 6/25\n",
      "39/39 [==============================] - 63s 2s/step - loss: 0.2744 - categorical_accuracy: 0.9231 - val_loss: 0.3209 - val_categorical_accuracy: 0.8667\n",
      "\n",
      "Epoch 00006: saving model to gdrive/My Drive/Gesture_Recog/model_init_2021-07-1110_16_18.363209/model-00006-0.27440-0.92308-0.32093-0.86667.h5\n",
      "Epoch 7/25\n",
      "39/39 [==============================] - 64s 2s/step - loss: 0.1829 - categorical_accuracy: 0.9351 - val_loss: 0.2563 - val_categorical_accuracy: 0.9167\n",
      "\n",
      "Epoch 00007: saving model to gdrive/My Drive/Gesture_Recog/model_init_2021-07-1110_16_18.363209/model-00007-0.18286-0.93514-0.25627-0.91667.h5\n",
      "Epoch 8/25\n",
      "39/39 [==============================] - 64s 2s/step - loss: 0.1475 - categorical_accuracy: 0.9532 - val_loss: 0.2431 - val_categorical_accuracy: 0.9000\n",
      "\n",
      "Epoch 00008: saving model to gdrive/My Drive/Gesture_Recog/model_init_2021-07-1110_16_18.363209/model-00008-0.14748-0.95324-0.24313-0.90000.h5\n",
      "Epoch 9/25\n",
      "39/39 [==============================] - 62s 2s/step - loss: 0.0769 - categorical_accuracy: 0.9744 - val_loss: 0.2263 - val_categorical_accuracy: 0.9167\n",
      "\n",
      "Epoch 00009: saving model to gdrive/My Drive/Gesture_Recog/model_init_2021-07-1110_16_18.363209/model-00009-0.07687-0.97436-0.22627-0.91667.h5\n",
      "Epoch 10/25\n",
      "39/39 [==============================] - 62s 2s/step - loss: 0.0559 - categorical_accuracy: 0.9819 - val_loss: 0.0869 - val_categorical_accuracy: 0.9667\n",
      "\n",
      "Epoch 00010: saving model to gdrive/My Drive/Gesture_Recog/model_init_2021-07-1110_16_18.363209/model-00010-0.05586-0.98190-0.08686-0.96667.h5\n",
      "Epoch 11/25\n",
      "39/39 [==============================] - 63s 2s/step - loss: 0.0608 - categorical_accuracy: 0.9834 - val_loss: 0.0975 - val_categorical_accuracy: 0.9500\n",
      "\n",
      "Epoch 00011: saving model to gdrive/My Drive/Gesture_Recog/model_init_2021-07-1110_16_18.363209/model-00011-0.06083-0.98341-0.09753-0.95000.h5\n",
      "Epoch 12/25\n",
      "39/39 [==============================] - 63s 2s/step - loss: 0.1014 - categorical_accuracy: 0.9623 - val_loss: 0.8368 - val_categorical_accuracy: 0.7667\n",
      "\n",
      "Epoch 00012: saving model to gdrive/My Drive/Gesture_Recog/model_init_2021-07-1110_16_18.363209/model-00012-0.10144-0.96229-0.83678-0.76667.h5\n",
      "\n",
      "Epoch 00012: ReduceLROnPlateau reducing learning rate to 0.0002500000118743628.\n",
      "Epoch 13/25\n",
      "39/39 [==============================] - 63s 2s/step - loss: 0.1157 - categorical_accuracy: 0.9608 - val_loss: 0.2277 - val_categorical_accuracy: 0.9000\n",
      "\n",
      "Epoch 00013: saving model to gdrive/My Drive/Gesture_Recog/model_init_2021-07-1110_16_18.363209/model-00013-0.11569-0.96078-0.22771-0.90000.h5\n",
      "Epoch 14/25\n",
      "39/39 [==============================] - 63s 2s/step - loss: 0.0513 - categorical_accuracy: 0.9864 - val_loss: 0.0849 - val_categorical_accuracy: 0.9667\n",
      "\n",
      "Epoch 00014: saving model to gdrive/My Drive/Gesture_Recog/model_init_2021-07-1110_16_18.363209/model-00014-0.05129-0.98643-0.08486-0.96667.h5\n",
      "Epoch 15/25\n",
      "39/39 [==============================] - 63s 2s/step - loss: 0.0385 - categorical_accuracy: 0.9910 - val_loss: 0.3065 - val_categorical_accuracy: 0.8833\n",
      "\n",
      "Epoch 00015: saving model to gdrive/My Drive/Gesture_Recog/model_init_2021-07-1110_16_18.363209/model-00015-0.03852-0.99095-0.30653-0.88333.h5\n",
      "Epoch 16/25\n",
      "39/39 [==============================] - 63s 2s/step - loss: 0.0637 - categorical_accuracy: 0.9819 - val_loss: 0.1998 - val_categorical_accuracy: 0.9333\n",
      "\n",
      "Epoch 00016: saving model to gdrive/My Drive/Gesture_Recog/model_init_2021-07-1110_16_18.363209/model-00016-0.06368-0.98190-0.19980-0.93333.h5\n",
      "\n",
      "Epoch 00016: ReduceLROnPlateau reducing learning rate to 0.0001250000059371814.\n",
      "Epoch 17/25\n",
      "39/39 [==============================] - 64s 2s/step - loss: 0.0522 - categorical_accuracy: 0.9849 - val_loss: 0.1521 - val_categorical_accuracy: 0.9500\n",
      "\n",
      "Epoch 00017: saving model to gdrive/My Drive/Gesture_Recog/model_init_2021-07-1110_16_18.363209/model-00017-0.05219-0.98492-0.15213-0.95000.h5\n",
      "Epoch 18/25\n",
      "39/39 [==============================] - 62s 2s/step - loss: 0.0179 - categorical_accuracy: 0.9955 - val_loss: 0.1559 - val_categorical_accuracy: 0.9500\n",
      "\n",
      "Epoch 00018: saving model to gdrive/My Drive/Gesture_Recog/model_init_2021-07-1110_16_18.363209/model-00018-0.01793-0.99548-0.15593-0.95000.h5\n",
      "\n",
      "Epoch 00018: ReduceLROnPlateau reducing learning rate to 6.25000029685907e-05.\n",
      "Epoch 19/25\n",
      "39/39 [==============================] - 63s 2s/step - loss: 0.0232 - categorical_accuracy: 0.9940 - val_loss: 0.1002 - val_categorical_accuracy: 0.9833\n",
      "\n",
      "Epoch 00019: saving model to gdrive/My Drive/Gesture_Recog/model_init_2021-07-1110_16_18.363209/model-00019-0.02325-0.99397-0.10016-0.98333.h5\n",
      "Epoch 20/25\n",
      "39/39 [==============================] - 63s 2s/step - loss: 0.0207 - categorical_accuracy: 0.9940 - val_loss: 0.0877 - val_categorical_accuracy: 0.9500\n",
      "\n",
      "Epoch 00020: saving model to gdrive/My Drive/Gesture_Recog/model_init_2021-07-1110_16_18.363209/model-00020-0.02071-0.99397-0.08770-0.95000.h5\n",
      "\n",
      "Epoch 00020: ReduceLROnPlateau reducing learning rate to 3.125000148429535e-05.\n",
      "Epoch 21/25\n",
      "39/39 [==============================] - 63s 2s/step - loss: 0.0252 - categorical_accuracy: 0.9894 - val_loss: 0.2031 - val_categorical_accuracy: 0.9167\n",
      "\n",
      "Epoch 00021: saving model to gdrive/My Drive/Gesture_Recog/model_init_2021-07-1110_16_18.363209/model-00021-0.02522-0.98944-0.20306-0.91667.h5\n",
      "Epoch 22/25\n",
      "39/39 [==============================] - 63s 2s/step - loss: 0.0118 - categorical_accuracy: 0.9985 - val_loss: 0.1076 - val_categorical_accuracy: 0.9667\n",
      "\n",
      "Epoch 00022: saving model to gdrive/My Drive/Gesture_Recog/model_init_2021-07-1110_16_18.363209/model-00022-0.01178-0.99849-0.10762-0.96667.h5\n",
      "\n",
      "Epoch 00022: ReduceLROnPlateau reducing learning rate to 1.5625000742147677e-05.\n",
      "Epoch 23/25\n",
      "39/39 [==============================] - 62s 2s/step - loss: 0.0182 - categorical_accuracy: 0.9970 - val_loss: 0.0994 - val_categorical_accuracy: 0.9667\n",
      "\n",
      "Epoch 00023: saving model to gdrive/My Drive/Gesture_Recog/model_init_2021-07-1110_16_18.363209/model-00023-0.01817-0.99698-0.09940-0.96667.h5\n",
      "Epoch 24/25\n",
      "39/39 [==============================] - 63s 2s/step - loss: 0.0211 - categorical_accuracy: 0.9910 - val_loss: 0.1145 - val_categorical_accuracy: 0.9667\n",
      "\n",
      "Epoch 00024: saving model to gdrive/My Drive/Gesture_Recog/model_init_2021-07-1110_16_18.363209/model-00024-0.02108-0.99095-0.11454-0.96667.h5\n",
      "\n",
      "Epoch 00024: ReduceLROnPlateau reducing learning rate to 7.812500371073838e-06.\n",
      "Epoch 25/25\n",
      "39/39 [==============================] - 62s 2s/step - loss: 0.0270 - categorical_accuracy: 0.9940 - val_loss: 0.0839 - val_categorical_accuracy: 0.9667\n",
      "\n",
      "Epoch 00025: saving model to gdrive/My Drive/Gesture_Recog/model_init_2021-07-1110_16_18.363209/model-00025-0.02698-0.99397-0.08388-0.96667.h5\n"
     ]
    }
   ],
   "source": [
    "batch_size=39\n",
    "num_epochs=25\n",
    "\n",
    "history5 = model.fit_generator(train_generator, steps_per_epoch=steps_per_epoch, epochs=num_epochs, verbose=1, \n",
    "                    callbacks=callbacks_list, validation_data=val_generator, \n",
    "                    validation_steps=validation_steps, class_weight=None, workers=1, initial_epoch=0)"
   ]
  },
  {
   "cell_type": "code",
   "execution_count": 120,
   "metadata": {
    "colab": {
     "base_uri": "https://localhost:8080/",
     "height": 266
    },
    "id": "w5Fd6oyNHJYE",
    "outputId": "1c578583-0a9f-4651-e49b-4765a1b44dfa"
   },
   "outputs": [
    {
     "data": {
      "image/png": "[encoded data removed]",
      "text/plain": [
       "<Figure size 1080x288 with 2 Axes>"
      ]
     },
     "metadata": {
      "needs_background": "light",
      "tags": []
     },
     "output_type": "display_data"
    }
   ],
   "source": [
    "plot(history5)"
   ]
  },
  {
   "cell_type": "markdown",
   "metadata": {
    "id": "WCaLMkmvzbTt"
   },
   "source": [
    "**This model almost reached 100% accuracy, hence seems to be Overfitting to the train data**"
   ]
  },
  {
   "cell_type": "markdown",
   "metadata": {
    "id": "VJTdWeLezbTt"
   },
   "source": [
    "**After doing all the experiments, we finalized Model 3 - Conv3D, which performed well.**\n",
    "\n",
    "**Reason :** Good Training and testing accuracy"
   ]
  },
  {
   "cell_type": "markdown",
   "metadata": {
    "id": "hVW3yOCTzbTt"
   },
   "source": [
    "### Load Model and predict on the validation set"
   ]
  },
  {
   "cell_type": "code",
   "execution_count": 121,
   "metadata": {
    "id": "PHam27etKmHP"
   },
   "outputs": [],
   "source": [
    "import time\n",
    "from keras.models import load_model\n",
    "model = load_model('gdrive/My Drive/Gesture_Recog/model_init_2021-07-1110_16_18.363209/model-00025-0.39907-0.85370-0.51638-0.83333.h5')"
   ]
  },
  {
   "cell_type": "code",
   "execution_count": 122,
   "metadata": {
    "colab": {
     "base_uri": "https://localhost:8080/"
    },
    "id": "Nu__on1JKnIF",
    "outputId": "d2df51de-15e1-41c5-de52-624c5cdaa04a"
   },
   "outputs": [
    {
     "name": "stdout",
     "output_type": "stream",
     "text": [
      "Source path =  Project_data/val ; batch size = 39\n"
     ]
    }
   ],
   "source": [
    "Final_val=generator(val_path, val_doc, batch_size)\n",
    "batch_data, batch_labels=next(Final_val)\n"
   ]
  },
  {
   "cell_type": "code",
   "execution_count": 123,
   "metadata": {
    "colab": {
     "base_uri": "https://localhost:8080/"
    },
    "id": "nR4xzE9FKnSf",
    "outputId": "a17a0158-ff48-48a7-95ab-2253dd76d78c"
   },
   "outputs": [
    {
     "data": {
      "text/plain": [
       "array([[0., 0., 0., 1., 0.],\n",
       "       [0., 0., 1., 0., 0.],\n",
       "       [0., 1., 0., 0., 0.],\n",
       "       [0., 0., 1., 0., 0.],\n",
       "       [0., 0., 0., 1., 0.],\n",
       "       [0., 0., 0., 0., 1.],\n",
       "       [0., 0., 1., 0., 0.],\n",
       "       [0., 1., 0., 0., 0.],\n",
       "       [0., 0., 1., 0., 0.],\n",
       "       [1., 0., 0., 0., 0.],\n",
       "       [0., 1., 0., 0., 0.],\n",
       "       [0., 0., 0., 1., 0.],\n",
       "       [0., 0., 0., 0., 1.],\n",
       "       [1., 0., 0., 0., 0.],\n",
       "       [0., 0., 1., 0., 0.],\n",
       "       [0., 0., 0., 1., 0.],\n",
       "       [0., 0., 0., 0., 1.],\n",
       "       [0., 0., 1., 0., 0.],\n",
       "       [0., 0., 0., 1., 0.],\n",
       "       [0., 1., 0., 0., 0.],\n",
       "       [0., 0., 1., 0., 0.],\n",
       "       [1., 0., 0., 0., 0.],\n",
       "       [0., 0., 0., 1., 0.],\n",
       "       [1., 0., 0., 0., 0.],\n",
       "       [1., 0., 0., 0., 0.],\n",
       "       [1., 0., 0., 0., 0.],\n",
       "       [1., 0., 0., 0., 0.],\n",
       "       [0., 1., 0., 0., 0.],\n",
       "       [0., 1., 0., 0., 0.],\n",
       "       [0., 1., 0., 0., 0.],\n",
       "       [0., 0., 0., 1., 0.],\n",
       "       [0., 0., 0., 1., 0.],\n",
       "       [0., 1., 0., 0., 0.],\n",
       "       [0., 1., 0., 0., 0.],\n",
       "       [0., 1., 0., 0., 0.],\n",
       "       [0., 0., 1., 0., 0.],\n",
       "       [0., 0., 0., 0., 1.],\n",
       "       [0., 0., 0., 0., 1.],\n",
       "       [0., 0., 1., 0., 0.]])"
      ]
     },
     "execution_count": 123,
     "metadata": {
      "tags": []
     },
     "output_type": "execute_result"
    }
   ],
   "source": [
    "batch_labels"
   ]
  },
  {
   "cell_type": "code",
   "execution_count": 124,
   "metadata": {
    "colab": {
     "base_uri": "https://localhost:8080/"
    },
    "id": "Oyaj6NXxKnc2",
    "outputId": "559f45ae-91f6-4f06-92e8-02cae4f4eb5b"
   },
   "outputs": [
    {
     "name": "stdout",
     "output_type": "stream",
     "text": [
      "[3 3 0 0 3 4 2 1 2 0 1 3 2 1 2 3 4 2 3 1 2 0 3 0 0 0 0 1 1 1 3 3 1 1 0 2 4\n",
      " 4 0]\n"
     ]
    }
   ],
   "source": [
    "print(np.argmax(model.predict(batch_data[:,:,:,:,:]),axis=1))"
   ]
  }
 ],
 "metadata": {
  "accelerator": "GPU",
  "colab": {
   "name": "Neural_Nets_Project_Starter_Final.ipynb",
   "provenance": []
  },
  "kernelspec": {
   "display_name": "Python 3",
   "language": "python",
   "name": "python3"
  },
  "language_info": {
   "codemirror_mode": {
    "name": "ipython",
    "version": 3
   },
   "file_extension": ".py",
   "mimetype": "text/x-python",
   "name": "python",
   "nbconvert_exporter": "python",
   "pygments_lexer": "ipython3",
   "version": "3.8.3"
  }
 },
 "nbformat": 4,
 "nbformat_minor": 4
}
